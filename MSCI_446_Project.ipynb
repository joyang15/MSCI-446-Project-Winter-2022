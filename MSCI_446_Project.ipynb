{
  "cells": [
    {
      "cell_type": "markdown",
      "metadata": {
        "id": "view-in-github",
        "colab_type": "text"
      },
      "source": [
        "<a href=\"https://colab.research.google.com/github/joyang15/MSCI-446-Project-Winter-2022/blob/main/MSCI_446_Project.ipynb\" target=\"_parent\"><img src=\"https://colab.research.google.com/assets/colab-badge.svg\" alt=\"Open In Colab\"/></a>"
      ]
    },
    {
      "cell_type": "markdown",
      "metadata": {
        "id": "2DQlPYJcuMmw"
      },
      "source": [
        "# Imports + Cleaning"
      ]
    },
    {
      "cell_type": "code",
      "execution_count": null,
      "metadata": {
        "colab": {
          "base_uri": "https://localhost:8080/",
          "height": 465
        },
        "id": "1iDN5O7JtU4s",
        "outputId": "acbd6735-3927-469a-e0bb-29c3020c82a9"
      },
      "outputs": [
        {
          "output_type": "stream",
          "name": "stderr",
          "text": [
            "/usr/local/lib/python3.7/dist-packages/IPython/core/interactiveshell.py:2882: FutureWarning: The warn_bad_lines argument has been deprecated and will be removed in a future version.\n",
            "\n",
            "\n",
            "  exec(code_obj, self.user_global_ns, self.user_ns)\n",
            "/usr/local/lib/python3.7/dist-packages/IPython/core/interactiveshell.py:2882: FutureWarning: The error_bad_lines argument has been deprecated and will be removed in a future version.\n",
            "\n",
            "\n",
            "  exec(code_obj, self.user_global_ns, self.user_ns)\n",
            "/usr/local/lib/python3.7/dist-packages/ipykernel_launcher.py:29: SettingWithCopyWarning: \n",
            "A value is trying to be set on a copy of a slice from a DataFrame.\n",
            "Try using .loc[row_indexer,col_indexer] = value instead\n",
            "\n",
            "See the caveats in the documentation: https://pandas.pydata.org/pandas-docs/stable/user_guide/indexing.html#returning-a-view-versus-a-copy\n"
          ]
        },
        {
          "output_type": "execute_result",
          "data": {
            "text/plain": [
              "   category_number\n",
              "0                3\n",
              "1                2\n",
              "2                4\n",
              "3                2\n",
              "4                2"
            ],
            "text/html": [
              "\n",
              "  <div id=\"df-11be921c-bebf-4490-85cc-5da7ec896fce\">\n",
              "    <div class=\"colab-df-container\">\n",
              "      <div>\n",
              "<style scoped>\n",
              "    .dataframe tbody tr th:only-of-type {\n",
              "        vertical-align: middle;\n",
              "    }\n",
              "\n",
              "    .dataframe tbody tr th {\n",
              "        vertical-align: top;\n",
              "    }\n",
              "\n",
              "    .dataframe thead th {\n",
              "        text-align: right;\n",
              "    }\n",
              "</style>\n",
              "<table border=\"1\" class=\"dataframe\">\n",
              "  <thead>\n",
              "    <tr style=\"text-align: right;\">\n",
              "      <th></th>\n",
              "      <th>category_number</th>\n",
              "    </tr>\n",
              "  </thead>\n",
              "  <tbody>\n",
              "    <tr>\n",
              "      <th>0</th>\n",
              "      <td>3</td>\n",
              "    </tr>\n",
              "    <tr>\n",
              "      <th>1</th>\n",
              "      <td>2</td>\n",
              "    </tr>\n",
              "    <tr>\n",
              "      <th>2</th>\n",
              "      <td>4</td>\n",
              "    </tr>\n",
              "    <tr>\n",
              "      <th>3</th>\n",
              "      <td>2</td>\n",
              "    </tr>\n",
              "    <tr>\n",
              "      <th>4</th>\n",
              "      <td>2</td>\n",
              "    </tr>\n",
              "  </tbody>\n",
              "</table>\n",
              "</div>\n",
              "      <button class=\"colab-df-convert\" onclick=\"convertToInteractive('df-11be921c-bebf-4490-85cc-5da7ec896fce')\"\n",
              "              title=\"Convert this dataframe to an interactive table.\"\n",
              "              style=\"display:none;\">\n",
              "        \n",
              "  <svg xmlns=\"http://www.w3.org/2000/svg\" height=\"24px\"viewBox=\"0 0 24 24\"\n",
              "       width=\"24px\">\n",
              "    <path d=\"M0 0h24v24H0V0z\" fill=\"none\"/>\n",
              "    <path d=\"M18.56 5.44l.94 2.06.94-2.06 2.06-.94-2.06-.94-.94-2.06-.94 2.06-2.06.94zm-11 1L8.5 8.5l.94-2.06 2.06-.94-2.06-.94L8.5 2.5l-.94 2.06-2.06.94zm10 10l.94 2.06.94-2.06 2.06-.94-2.06-.94-.94-2.06-.94 2.06-2.06.94z\"/><path d=\"M17.41 7.96l-1.37-1.37c-.4-.4-.92-.59-1.43-.59-.52 0-1.04.2-1.43.59L10.3 9.45l-7.72 7.72c-.78.78-.78 2.05 0 2.83L4 21.41c.39.39.9.59 1.41.59.51 0 1.02-.2 1.41-.59l7.78-7.78 2.81-2.81c.8-.78.8-2.07 0-2.86zM5.41 20L4 18.59l7.72-7.72 1.47 1.35L5.41 20z\"/>\n",
              "  </svg>\n",
              "      </button>\n",
              "      \n",
              "  <style>\n",
              "    .colab-df-container {\n",
              "      display:flex;\n",
              "      flex-wrap:wrap;\n",
              "      gap: 12px;\n",
              "    }\n",
              "\n",
              "    .colab-df-convert {\n",
              "      background-color: #E8F0FE;\n",
              "      border: none;\n",
              "      border-radius: 50%;\n",
              "      cursor: pointer;\n",
              "      display: none;\n",
              "      fill: #1967D2;\n",
              "      height: 32px;\n",
              "      padding: 0 0 0 0;\n",
              "      width: 32px;\n",
              "    }\n",
              "\n",
              "    .colab-df-convert:hover {\n",
              "      background-color: #E2EBFA;\n",
              "      box-shadow: 0px 1px 2px rgba(60, 64, 67, 0.3), 0px 1px 3px 1px rgba(60, 64, 67, 0.15);\n",
              "      fill: #174EA6;\n",
              "    }\n",
              "\n",
              "    [theme=dark] .colab-df-convert {\n",
              "      background-color: #3B4455;\n",
              "      fill: #D2E3FC;\n",
              "    }\n",
              "\n",
              "    [theme=dark] .colab-df-convert:hover {\n",
              "      background-color: #434B5C;\n",
              "      box-shadow: 0px 1px 3px 1px rgba(0, 0, 0, 0.15);\n",
              "      filter: drop-shadow(0px 1px 2px rgba(0, 0, 0, 0.3));\n",
              "      fill: #FFFFFF;\n",
              "    }\n",
              "  </style>\n",
              "\n",
              "      <script>\n",
              "        const buttonEl =\n",
              "          document.querySelector('#df-11be921c-bebf-4490-85cc-5da7ec896fce button.colab-df-convert');\n",
              "        buttonEl.style.display =\n",
              "          google.colab.kernel.accessAllowed ? 'block' : 'none';\n",
              "\n",
              "        async function convertToInteractive(key) {\n",
              "          const element = document.querySelector('#df-11be921c-bebf-4490-85cc-5da7ec896fce');\n",
              "          const dataTable =\n",
              "            await google.colab.kernel.invokeFunction('convertToInteractive',\n",
              "                                                     [key], {});\n",
              "          if (!dataTable) return;\n",
              "\n",
              "          const docLinkHtml = 'Like what you see? Visit the ' +\n",
              "            '<a target=\"_blank\" href=https://colab.research.google.com/notebooks/data_table.ipynb>data table notebook</a>'\n",
              "            + ' to learn more about interactive tables.';\n",
              "          element.innerHTML = '';\n",
              "          dataTable['output_type'] = 'display_data';\n",
              "          await google.colab.output.renderOutput(dataTable, element);\n",
              "          const docLink = document.createElement('div');\n",
              "          docLink.innerHTML = docLinkHtml;\n",
              "          element.appendChild(docLink);\n",
              "        }\n",
              "      </script>\n",
              "    </div>\n",
              "  </div>\n",
              "  "
            ]
          },
          "metadata": {},
          "execution_count": 1
        }
      ],
      "source": [
        "from os import sched_rr_get_interval\n",
        "import numpy as np\n",
        "import pandas as pd\n",
        "from sklearn import decomposition\n",
        "from scipy import linalg\n",
        "from sklearn import datasets\n",
        "from sklearn import metrics\n",
        "from sklearn.model_selection import train_test_split\n",
        "from sklearn.metrics import classification_report, confusion_matrix, accuracy_score\n",
        "from nltk.stem.snowball import SnowballStemmer\n",
        "from sklearn.linear_model import LogisticRegression\n",
        "\n",
        "# read TEDtalk.csv in to a dataframe\n",
        "data = pd.read_csv('sample_data/TEDtalk.csv', engine = 'python', encoding='utf-8', error_bad_lines=False, warn_bad_lines=False)\n",
        "\n",
        "# removes categories with '#N/A'\n",
        "data = data.dropna(subset = [\"transcript\"])\n",
        "data = data[ data['category'].str.contains(\"#N/A\")==False ] \n",
        "\n",
        "# a dictionary that relates category names to a numner\n",
        "dictionary_cat_num = {'Health/Science':0,'Arts/Music/Entertainment':1, 'Technology':2, \n",
        "                      'Earth/Environment/Ecosystem':3, 'Politics':4, 'World':5,\n",
        "                      'Emotions/Behaviour/Humanity':6, 'Family/Life':7, 'Career':8,\n",
        "                      'Education':9, 'Identity':10, 'Media':11,\n",
        "                      'Business':12, 'Religion':13, 'Law/Crime':14,\n",
        "                      'Charity Efforts/Activism':15, 'Travel':16, 'Animals/Aliens':17,\n",
        "                      'Food':18,'TED':19, 'History':20,\n",
        "                      'Safety Concerns':21}\n",
        "data['category_number'] = data.category.map(dictionary_cat_num) #mapping words to numbers\n",
        "\n",
        "# transcript data frame\n",
        "transcript = data['transcript'].to_frame()\n",
        "# category data frame\n",
        "category = data['category_number'].to_frame()\n",
        "# category_num data frame\n",
        "category_num = data['category_number'].to_frame()\n",
        "category_num.head()"
      ]
    },
    {
      "cell_type": "markdown",
      "metadata": {
        "id": "GEmATvhmpxng"
      },
      "source": [
        "# Data Exploration"
      ]
    },
    {
      "cell_type": "code",
      "execution_count": null,
      "metadata": {
        "colab": {
          "base_uri": "https://localhost:8080/",
          "height": 577
        },
        "id": "dFs8FVsvp0u3",
        "outputId": "a720e6d7-7191-42c6-fd6b-38e2ca5daf7d"
      },
      "outputs": [
        {
          "output_type": "execute_result",
          "data": {
            "text/plain": [
              "    id       speaker                              headline  \\\n",
              "0  1.0       Al Gore           Averting the climate crisis   \n",
              "1  2.0     Amy Smith         Simple designs to save a life   \n",
              "2  3.0  Ashraf Ghani         How to rebuild a broken state   \n",
              "3  4.0    Burt Rutan  The real future of space exploration   \n",
              "4  5.0  Chris Bangle              Great cars are great art   \n",
              "\n",
              "                                  URL  \\\n",
              "0  http://www.ted.com/talks/view/id/1   \n",
              "1  http://www.ted.com/talks/view/id/2   \n",
              "2  http://www.ted.com/talks/view/id/3   \n",
              "3  http://www.ted.com/talks/view/id/4   \n",
              "4  http://www.ted.com/talks/view/id/5   \n",
              "\n",
              "                                         description  \\\n",
              "0  With the same humor and humanity he exuded in ...   \n",
              "1  Fumes from indoor cooking fires kill more than...   \n",
              "2  Ashraf Ghani's passionate and powerful 10-minu...   \n",
              "3  In this passionate talk, legendary spacecraft ...   \n",
              "4  American designer Chris Bangle explains his ph...   \n",
              "\n",
              "                                      transcript_URL  month_filmed  \\\n",
              "0  http://www.ted.com/talks/view/id/1/transcript?...           2.0   \n",
              "1  http://www.ted.com/talks/view/id/2/transcript?...           2.0   \n",
              "2  http://www.ted.com/talks/view/id/3/transcript?...           7.0   \n",
              "3  http://www.ted.com/talks/view/id/4/transcript?...           2.0   \n",
              "4  http://www.ted.com/talks/view/id/5/transcript?...           2.0   \n",
              "\n",
              "   year_filmed           event duration  ... fairness_virtue  fairness_vice  \\\n",
              "0       2006.0         TED2006  0:16:17  ...            0.00           0.00   \n",
              "1       2006.0         TED2006  0:15:06  ...            0.00           0.00   \n",
              "2       2005.0  TEDGlobal 2005  0:18:45  ...            0.16           0.04   \n",
              "3       2006.0         TED2006  0:19:37  ...            0.00           0.00   \n",
              "4       2002.0         TED2002  0:20:04  ...            0.03           0.00   \n",
              "\n",
              "  ingroup_virtue ingroup_vice authority_virtue authority_vice  purity_virtue  \\\n",
              "0           0.48         0.00             0.22            0.0           0.00   \n",
              "1           0.30         0.00             0.11            0.0           0.11   \n",
              "2           0.32         0.12             0.20            0.0           0.04   \n",
              "3           0.19         0.00             0.10            0.0           0.00   \n",
              "4           0.39         0.00             0.05            0.0           0.00   \n",
              "\n",
              "   purity_vice  morality_general  category_number  \n",
              "0         0.00              0.22                3  \n",
              "1         0.04              0.15                2  \n",
              "2         0.04              0.08                4  \n",
              "3         0.00              0.16                2  \n",
              "4         0.03              0.13                2  \n",
              "\n",
              "[5 rows x 125 columns]"
            ],
            "text/html": [
              "\n",
              "  <div id=\"df-10c43b9f-fa67-4e40-acea-6c22a6e95b24\">\n",
              "    <div class=\"colab-df-container\">\n",
              "      <div>\n",
              "<style scoped>\n",
              "    .dataframe tbody tr th:only-of-type {\n",
              "        vertical-align: middle;\n",
              "    }\n",
              "\n",
              "    .dataframe tbody tr th {\n",
              "        vertical-align: top;\n",
              "    }\n",
              "\n",
              "    .dataframe thead th {\n",
              "        text-align: right;\n",
              "    }\n",
              "</style>\n",
              "<table border=\"1\" class=\"dataframe\">\n",
              "  <thead>\n",
              "    <tr style=\"text-align: right;\">\n",
              "      <th></th>\n",
              "      <th>id</th>\n",
              "      <th>speaker</th>\n",
              "      <th>headline</th>\n",
              "      <th>URL</th>\n",
              "      <th>description</th>\n",
              "      <th>transcript_URL</th>\n",
              "      <th>month_filmed</th>\n",
              "      <th>year_filmed</th>\n",
              "      <th>event</th>\n",
              "      <th>duration</th>\n",
              "      <th>...</th>\n",
              "      <th>fairness_virtue</th>\n",
              "      <th>fairness_vice</th>\n",
              "      <th>ingroup_virtue</th>\n",
              "      <th>ingroup_vice</th>\n",
              "      <th>authority_virtue</th>\n",
              "      <th>authority_vice</th>\n",
              "      <th>purity_virtue</th>\n",
              "      <th>purity_vice</th>\n",
              "      <th>morality_general</th>\n",
              "      <th>category_number</th>\n",
              "    </tr>\n",
              "  </thead>\n",
              "  <tbody>\n",
              "    <tr>\n",
              "      <th>0</th>\n",
              "      <td>1.0</td>\n",
              "      <td>Al Gore</td>\n",
              "      <td>Averting the climate crisis</td>\n",
              "      <td>http://www.ted.com/talks/view/id/1</td>\n",
              "      <td>With the same humor and humanity he exuded in ...</td>\n",
              "      <td>http://www.ted.com/talks/view/id/1/transcript?...</td>\n",
              "      <td>2.0</td>\n",
              "      <td>2006.0</td>\n",
              "      <td>TED2006</td>\n",
              "      <td>0:16:17</td>\n",
              "      <td>...</td>\n",
              "      <td>0.00</td>\n",
              "      <td>0.00</td>\n",
              "      <td>0.48</td>\n",
              "      <td>0.00</td>\n",
              "      <td>0.22</td>\n",
              "      <td>0.0</td>\n",
              "      <td>0.00</td>\n",
              "      <td>0.00</td>\n",
              "      <td>0.22</td>\n",
              "      <td>3</td>\n",
              "    </tr>\n",
              "    <tr>\n",
              "      <th>1</th>\n",
              "      <td>2.0</td>\n",
              "      <td>Amy Smith</td>\n",
              "      <td>Simple designs to save a life</td>\n",
              "      <td>http://www.ted.com/talks/view/id/2</td>\n",
              "      <td>Fumes from indoor cooking fires kill more than...</td>\n",
              "      <td>http://www.ted.com/talks/view/id/2/transcript?...</td>\n",
              "      <td>2.0</td>\n",
              "      <td>2006.0</td>\n",
              "      <td>TED2006</td>\n",
              "      <td>0:15:06</td>\n",
              "      <td>...</td>\n",
              "      <td>0.00</td>\n",
              "      <td>0.00</td>\n",
              "      <td>0.30</td>\n",
              "      <td>0.00</td>\n",
              "      <td>0.11</td>\n",
              "      <td>0.0</td>\n",
              "      <td>0.11</td>\n",
              "      <td>0.04</td>\n",
              "      <td>0.15</td>\n",
              "      <td>2</td>\n",
              "    </tr>\n",
              "    <tr>\n",
              "      <th>2</th>\n",
              "      <td>3.0</td>\n",
              "      <td>Ashraf Ghani</td>\n",
              "      <td>How to rebuild a broken state</td>\n",
              "      <td>http://www.ted.com/talks/view/id/3</td>\n",
              "      <td>Ashraf Ghani's passionate and powerful 10-minu...</td>\n",
              "      <td>http://www.ted.com/talks/view/id/3/transcript?...</td>\n",
              "      <td>7.0</td>\n",
              "      <td>2005.0</td>\n",
              "      <td>TEDGlobal 2005</td>\n",
              "      <td>0:18:45</td>\n",
              "      <td>...</td>\n",
              "      <td>0.16</td>\n",
              "      <td>0.04</td>\n",
              "      <td>0.32</td>\n",
              "      <td>0.12</td>\n",
              "      <td>0.20</td>\n",
              "      <td>0.0</td>\n",
              "      <td>0.04</td>\n",
              "      <td>0.04</td>\n",
              "      <td>0.08</td>\n",
              "      <td>4</td>\n",
              "    </tr>\n",
              "    <tr>\n",
              "      <th>3</th>\n",
              "      <td>4.0</td>\n",
              "      <td>Burt Rutan</td>\n",
              "      <td>The real future of space exploration</td>\n",
              "      <td>http://www.ted.com/talks/view/id/4</td>\n",
              "      <td>In this passionate talk, legendary spacecraft ...</td>\n",
              "      <td>http://www.ted.com/talks/view/id/4/transcript?...</td>\n",
              "      <td>2.0</td>\n",
              "      <td>2006.0</td>\n",
              "      <td>TED2006</td>\n",
              "      <td>0:19:37</td>\n",
              "      <td>...</td>\n",
              "      <td>0.00</td>\n",
              "      <td>0.00</td>\n",
              "      <td>0.19</td>\n",
              "      <td>0.00</td>\n",
              "      <td>0.10</td>\n",
              "      <td>0.0</td>\n",
              "      <td>0.00</td>\n",
              "      <td>0.00</td>\n",
              "      <td>0.16</td>\n",
              "      <td>2</td>\n",
              "    </tr>\n",
              "    <tr>\n",
              "      <th>4</th>\n",
              "      <td>5.0</td>\n",
              "      <td>Chris Bangle</td>\n",
              "      <td>Great cars are great art</td>\n",
              "      <td>http://www.ted.com/talks/view/id/5</td>\n",
              "      <td>American designer Chris Bangle explains his ph...</td>\n",
              "      <td>http://www.ted.com/talks/view/id/5/transcript?...</td>\n",
              "      <td>2.0</td>\n",
              "      <td>2002.0</td>\n",
              "      <td>TED2002</td>\n",
              "      <td>0:20:04</td>\n",
              "      <td>...</td>\n",
              "      <td>0.03</td>\n",
              "      <td>0.00</td>\n",
              "      <td>0.39</td>\n",
              "      <td>0.00</td>\n",
              "      <td>0.05</td>\n",
              "      <td>0.0</td>\n",
              "      <td>0.00</td>\n",
              "      <td>0.03</td>\n",
              "      <td>0.13</td>\n",
              "      <td>2</td>\n",
              "    </tr>\n",
              "  </tbody>\n",
              "</table>\n",
              "<p>5 rows × 125 columns</p>\n",
              "</div>\n",
              "      <button class=\"colab-df-convert\" onclick=\"convertToInteractive('df-10c43b9f-fa67-4e40-acea-6c22a6e95b24')\"\n",
              "              title=\"Convert this dataframe to an interactive table.\"\n",
              "              style=\"display:none;\">\n",
              "        \n",
              "  <svg xmlns=\"http://www.w3.org/2000/svg\" height=\"24px\"viewBox=\"0 0 24 24\"\n",
              "       width=\"24px\">\n",
              "    <path d=\"M0 0h24v24H0V0z\" fill=\"none\"/>\n",
              "    <path d=\"M18.56 5.44l.94 2.06.94-2.06 2.06-.94-2.06-.94-.94-2.06-.94 2.06-2.06.94zm-11 1L8.5 8.5l.94-2.06 2.06-.94-2.06-.94L8.5 2.5l-.94 2.06-2.06.94zm10 10l.94 2.06.94-2.06 2.06-.94-2.06-.94-.94-2.06-.94 2.06-2.06.94z\"/><path d=\"M17.41 7.96l-1.37-1.37c-.4-.4-.92-.59-1.43-.59-.52 0-1.04.2-1.43.59L10.3 9.45l-7.72 7.72c-.78.78-.78 2.05 0 2.83L4 21.41c.39.39.9.59 1.41.59.51 0 1.02-.2 1.41-.59l7.78-7.78 2.81-2.81c.8-.78.8-2.07 0-2.86zM5.41 20L4 18.59l7.72-7.72 1.47 1.35L5.41 20z\"/>\n",
              "  </svg>\n",
              "      </button>\n",
              "      \n",
              "  <style>\n",
              "    .colab-df-container {\n",
              "      display:flex;\n",
              "      flex-wrap:wrap;\n",
              "      gap: 12px;\n",
              "    }\n",
              "\n",
              "    .colab-df-convert {\n",
              "      background-color: #E8F0FE;\n",
              "      border: none;\n",
              "      border-radius: 50%;\n",
              "      cursor: pointer;\n",
              "      display: none;\n",
              "      fill: #1967D2;\n",
              "      height: 32px;\n",
              "      padding: 0 0 0 0;\n",
              "      width: 32px;\n",
              "    }\n",
              "\n",
              "    .colab-df-convert:hover {\n",
              "      background-color: #E2EBFA;\n",
              "      box-shadow: 0px 1px 2px rgba(60, 64, 67, 0.3), 0px 1px 3px 1px rgba(60, 64, 67, 0.15);\n",
              "      fill: #174EA6;\n",
              "    }\n",
              "\n",
              "    [theme=dark] .colab-df-convert {\n",
              "      background-color: #3B4455;\n",
              "      fill: #D2E3FC;\n",
              "    }\n",
              "\n",
              "    [theme=dark] .colab-df-convert:hover {\n",
              "      background-color: #434B5C;\n",
              "      box-shadow: 0px 1px 3px 1px rgba(0, 0, 0, 0.15);\n",
              "      filter: drop-shadow(0px 1px 2px rgba(0, 0, 0, 0.3));\n",
              "      fill: #FFFFFF;\n",
              "    }\n",
              "  </style>\n",
              "\n",
              "      <script>\n",
              "        const buttonEl =\n",
              "          document.querySelector('#df-10c43b9f-fa67-4e40-acea-6c22a6e95b24 button.colab-df-convert');\n",
              "        buttonEl.style.display =\n",
              "          google.colab.kernel.accessAllowed ? 'block' : 'none';\n",
              "\n",
              "        async function convertToInteractive(key) {\n",
              "          const element = document.querySelector('#df-10c43b9f-fa67-4e40-acea-6c22a6e95b24');\n",
              "          const dataTable =\n",
              "            await google.colab.kernel.invokeFunction('convertToInteractive',\n",
              "                                                     [key], {});\n",
              "          if (!dataTable) return;\n",
              "\n",
              "          const docLinkHtml = 'Like what you see? Visit the ' +\n",
              "            '<a target=\"_blank\" href=https://colab.research.google.com/notebooks/data_table.ipynb>data table notebook</a>'\n",
              "            + ' to learn more about interactive tables.';\n",
              "          element.innerHTML = '';\n",
              "          dataTable['output_type'] = 'display_data';\n",
              "          await google.colab.output.renderOutput(dataTable, element);\n",
              "          const docLink = document.createElement('div');\n",
              "          docLink.innerHTML = docLinkHtml;\n",
              "          element.appendChild(docLink);\n",
              "        }\n",
              "      </script>\n",
              "    </div>\n",
              "  </div>\n",
              "  "
            ]
          },
          "metadata": {},
          "execution_count": 2
        }
      ],
      "source": [
        "data.head(5)"
      ]
    },
    {
      "cell_type": "code",
      "execution_count": null,
      "metadata": {
        "colab": {
          "base_uri": "https://localhost:8080/"
        },
        "id": "1Gd8emP5qDz9",
        "outputId": "3c09fbfd-45d2-49be-dee1-2cc51ac72f76"
      },
      "outputs": [
        {
          "output_type": "execute_result",
          "data": {
            "text/plain": [
              "(2032, 125)"
            ]
          },
          "metadata": {},
          "execution_count": 3
        }
      ],
      "source": [
        "data.shape #show rows and columns"
      ]
    },
    {
      "cell_type": "code",
      "execution_count": null,
      "metadata": {
        "colab": {
          "base_uri": "https://localhost:8080/"
        },
        "id": "NpakI9AiqYLV",
        "outputId": "1a0e3dfb-57d8-4099-9715-3dd29d5e58cb"
      },
      "outputs": [
        {
          "output_type": "execute_result",
          "data": {
            "text/plain": [
              "2"
            ]
          },
          "metadata": {},
          "execution_count": 4
        }
      ],
      "source": [
        "data.ndim"
      ]
    },
    {
      "cell_type": "code",
      "execution_count": null,
      "metadata": {
        "colab": {
          "base_uri": "https://localhost:8080/"
        },
        "id": "0slkHAFgqLm-",
        "outputId": "d0cfe4e8-ded8-4682-ada6-14ec5fcc8535"
      },
      "outputs": [
        {
          "output_type": "stream",
          "name": "stdout",
          "text": [
            "<class 'pandas.core.frame.DataFrame'>\n",
            "Int64Index: 2032 entries, 0 to 2474\n",
            "Columns: 125 entries, id to category_number\n",
            "dtypes: float64(112), int64(1), object(12)\n",
            "memory usage: 2.0+ MB\n"
          ]
        }
      ],
      "source": [
        "data.info()"
      ]
    },
    {
      "cell_type": "code",
      "execution_count": null,
      "metadata": {
        "colab": {
          "base_uri": "https://localhost:8080/",
          "height": 394
        },
        "id": "BUbJlpw-qe0w",
        "outputId": "efb75264-d206-4c94-fa0d-a697b312a789"
      },
      "outputs": [
        {
          "output_type": "execute_result",
          "data": {
            "text/plain": [
              "                id  month_filmed  year_filmed  views_as_of_06162017  \\\n",
              "count  2032.000000   2032.000000  2032.000000          2.032000e+03   \n",
              "mean   1435.955709      5.461122  2011.337106          1.684031e+06   \n",
              "std     835.818326      3.420399     3.675279          2.486568e+06   \n",
              "min       1.000000      1.000000  1984.000000          1.389150e+05   \n",
              "25%     700.750000      2.000000  2009.000000          7.537535e+05   \n",
              "50%    1467.500000      4.000000  2012.000000          1.117335e+06   \n",
              "75%    2197.250000      8.000000  2014.000000          1.684936e+06   \n",
              "max    2804.000000     12.000000  2017.000000          4.562291e+07   \n",
              "\n",
              "                WC     Analytic        Clout    Authentic         Tone  \\\n",
              "count  2032.000000  2032.000000  2032.000000  2032.000000  2032.000000   \n",
              "mean   2145.973425    55.671954    74.015974    38.857638    53.045448   \n",
              "std     981.940822    17.053675    13.070196    17.321050    20.046764   \n",
              "min       6.000000     3.150000     1.000000     1.000000     1.000000   \n",
              "25%    1414.500000    43.627500    67.270000    25.807500    39.832500   \n",
              "50%    2165.500000    55.705000    76.400000    37.120000    52.935000   \n",
              "75%    2828.000000    67.832500    83.032500    49.945000    66.817500   \n",
              "max    6088.000000    98.180000    99.000000    94.590000    99.000000   \n",
              "\n",
              "               WPS  ...  fairness_virtue  fairness_vice  ingroup_virtue  \\\n",
              "count  2032.000000  ...      2032.000000    2032.000000     2032.000000   \n",
              "mean     17.090645  ...         0.040827       0.014508        0.235069   \n",
              "std       8.500551  ...         0.082346       0.063918        0.244574   \n",
              "min       5.670000  ...         0.000000       0.000000        0.000000   \n",
              "25%      14.270000  ...         0.000000       0.000000        0.070000   \n",
              "50%      16.385000  ...         0.000000       0.000000        0.170000   \n",
              "75%      18.780000  ...         0.050000       0.000000        0.310000   \n",
              "max     257.000000  ...         0.970000       1.220000        1.750000   \n",
              "\n",
              "       ingroup_vice  authority_virtue  authority_vice  purity_virtue  \\\n",
              "count   2032.000000       2032.000000     2032.000000    2032.000000   \n",
              "mean       0.041890          0.200669        0.012569       0.033932   \n",
              "std        0.099729          0.233660        0.040405       0.073783   \n",
              "min        0.000000          0.000000        0.000000       0.000000   \n",
              "25%        0.000000          0.060000        0.000000       0.000000   \n",
              "50%        0.000000          0.145000        0.000000       0.000000   \n",
              "75%        0.050000          0.260000        0.000000       0.040000   \n",
              "max        1.290000          2.950000        0.570000       0.710000   \n",
              "\n",
              "       purity_vice  morality_general  category_number  \n",
              "count  2032.000000       2032.000000      2032.000000  \n",
              "mean      0.054626          0.226063         3.245079  \n",
              "std       0.154324          0.232804         4.121251  \n",
              "min       0.000000          0.000000         0.000000  \n",
              "25%       0.000000          0.080000         0.000000  \n",
              "50%       0.000000          0.180000         2.000000  \n",
              "75%       0.050000          0.300000         4.000000  \n",
              "max       2.700000          3.520000        21.000000  \n",
              "\n",
              "[8 rows x 113 columns]"
            ],
            "text/html": [
              "\n",
              "  <div id=\"df-6f06c6da-4f43-4f6c-aa39-601a30e58a46\">\n",
              "    <div class=\"colab-df-container\">\n",
              "      <div>\n",
              "<style scoped>\n",
              "    .dataframe tbody tr th:only-of-type {\n",
              "        vertical-align: middle;\n",
              "    }\n",
              "\n",
              "    .dataframe tbody tr th {\n",
              "        vertical-align: top;\n",
              "    }\n",
              "\n",
              "    .dataframe thead th {\n",
              "        text-align: right;\n",
              "    }\n",
              "</style>\n",
              "<table border=\"1\" class=\"dataframe\">\n",
              "  <thead>\n",
              "    <tr style=\"text-align: right;\">\n",
              "      <th></th>\n",
              "      <th>id</th>\n",
              "      <th>month_filmed</th>\n",
              "      <th>year_filmed</th>\n",
              "      <th>views_as_of_06162017</th>\n",
              "      <th>WC</th>\n",
              "      <th>Analytic</th>\n",
              "      <th>Clout</th>\n",
              "      <th>Authentic</th>\n",
              "      <th>Tone</th>\n",
              "      <th>WPS</th>\n",
              "      <th>...</th>\n",
              "      <th>fairness_virtue</th>\n",
              "      <th>fairness_vice</th>\n",
              "      <th>ingroup_virtue</th>\n",
              "      <th>ingroup_vice</th>\n",
              "      <th>authority_virtue</th>\n",
              "      <th>authority_vice</th>\n",
              "      <th>purity_virtue</th>\n",
              "      <th>purity_vice</th>\n",
              "      <th>morality_general</th>\n",
              "      <th>category_number</th>\n",
              "    </tr>\n",
              "  </thead>\n",
              "  <tbody>\n",
              "    <tr>\n",
              "      <th>count</th>\n",
              "      <td>2032.000000</td>\n",
              "      <td>2032.000000</td>\n",
              "      <td>2032.000000</td>\n",
              "      <td>2.032000e+03</td>\n",
              "      <td>2032.000000</td>\n",
              "      <td>2032.000000</td>\n",
              "      <td>2032.000000</td>\n",
              "      <td>2032.000000</td>\n",
              "      <td>2032.000000</td>\n",
              "      <td>2032.000000</td>\n",
              "      <td>...</td>\n",
              "      <td>2032.000000</td>\n",
              "      <td>2032.000000</td>\n",
              "      <td>2032.000000</td>\n",
              "      <td>2032.000000</td>\n",
              "      <td>2032.000000</td>\n",
              "      <td>2032.000000</td>\n",
              "      <td>2032.000000</td>\n",
              "      <td>2032.000000</td>\n",
              "      <td>2032.000000</td>\n",
              "      <td>2032.000000</td>\n",
              "    </tr>\n",
              "    <tr>\n",
              "      <th>mean</th>\n",
              "      <td>1435.955709</td>\n",
              "      <td>5.461122</td>\n",
              "      <td>2011.337106</td>\n",
              "      <td>1.684031e+06</td>\n",
              "      <td>2145.973425</td>\n",
              "      <td>55.671954</td>\n",
              "      <td>74.015974</td>\n",
              "      <td>38.857638</td>\n",
              "      <td>53.045448</td>\n",
              "      <td>17.090645</td>\n",
              "      <td>...</td>\n",
              "      <td>0.040827</td>\n",
              "      <td>0.014508</td>\n",
              "      <td>0.235069</td>\n",
              "      <td>0.041890</td>\n",
              "      <td>0.200669</td>\n",
              "      <td>0.012569</td>\n",
              "      <td>0.033932</td>\n",
              "      <td>0.054626</td>\n",
              "      <td>0.226063</td>\n",
              "      <td>3.245079</td>\n",
              "    </tr>\n",
              "    <tr>\n",
              "      <th>std</th>\n",
              "      <td>835.818326</td>\n",
              "      <td>3.420399</td>\n",
              "      <td>3.675279</td>\n",
              "      <td>2.486568e+06</td>\n",
              "      <td>981.940822</td>\n",
              "      <td>17.053675</td>\n",
              "      <td>13.070196</td>\n",
              "      <td>17.321050</td>\n",
              "      <td>20.046764</td>\n",
              "      <td>8.500551</td>\n",
              "      <td>...</td>\n",
              "      <td>0.082346</td>\n",
              "      <td>0.063918</td>\n",
              "      <td>0.244574</td>\n",
              "      <td>0.099729</td>\n",
              "      <td>0.233660</td>\n",
              "      <td>0.040405</td>\n",
              "      <td>0.073783</td>\n",
              "      <td>0.154324</td>\n",
              "      <td>0.232804</td>\n",
              "      <td>4.121251</td>\n",
              "    </tr>\n",
              "    <tr>\n",
              "      <th>min</th>\n",
              "      <td>1.000000</td>\n",
              "      <td>1.000000</td>\n",
              "      <td>1984.000000</td>\n",
              "      <td>1.389150e+05</td>\n",
              "      <td>6.000000</td>\n",
              "      <td>3.150000</td>\n",
              "      <td>1.000000</td>\n",
              "      <td>1.000000</td>\n",
              "      <td>1.000000</td>\n",
              "      <td>5.670000</td>\n",
              "      <td>...</td>\n",
              "      <td>0.000000</td>\n",
              "      <td>0.000000</td>\n",
              "      <td>0.000000</td>\n",
              "      <td>0.000000</td>\n",
              "      <td>0.000000</td>\n",
              "      <td>0.000000</td>\n",
              "      <td>0.000000</td>\n",
              "      <td>0.000000</td>\n",
              "      <td>0.000000</td>\n",
              "      <td>0.000000</td>\n",
              "    </tr>\n",
              "    <tr>\n",
              "      <th>25%</th>\n",
              "      <td>700.750000</td>\n",
              "      <td>2.000000</td>\n",
              "      <td>2009.000000</td>\n",
              "      <td>7.537535e+05</td>\n",
              "      <td>1414.500000</td>\n",
              "      <td>43.627500</td>\n",
              "      <td>67.270000</td>\n",
              "      <td>25.807500</td>\n",
              "      <td>39.832500</td>\n",
              "      <td>14.270000</td>\n",
              "      <td>...</td>\n",
              "      <td>0.000000</td>\n",
              "      <td>0.000000</td>\n",
              "      <td>0.070000</td>\n",
              "      <td>0.000000</td>\n",
              "      <td>0.060000</td>\n",
              "      <td>0.000000</td>\n",
              "      <td>0.000000</td>\n",
              "      <td>0.000000</td>\n",
              "      <td>0.080000</td>\n",
              "      <td>0.000000</td>\n",
              "    </tr>\n",
              "    <tr>\n",
              "      <th>50%</th>\n",
              "      <td>1467.500000</td>\n",
              "      <td>4.000000</td>\n",
              "      <td>2012.000000</td>\n",
              "      <td>1.117335e+06</td>\n",
              "      <td>2165.500000</td>\n",
              "      <td>55.705000</td>\n",
              "      <td>76.400000</td>\n",
              "      <td>37.120000</td>\n",
              "      <td>52.935000</td>\n",
              "      <td>16.385000</td>\n",
              "      <td>...</td>\n",
              "      <td>0.000000</td>\n",
              "      <td>0.000000</td>\n",
              "      <td>0.170000</td>\n",
              "      <td>0.000000</td>\n",
              "      <td>0.145000</td>\n",
              "      <td>0.000000</td>\n",
              "      <td>0.000000</td>\n",
              "      <td>0.000000</td>\n",
              "      <td>0.180000</td>\n",
              "      <td>2.000000</td>\n",
              "    </tr>\n",
              "    <tr>\n",
              "      <th>75%</th>\n",
              "      <td>2197.250000</td>\n",
              "      <td>8.000000</td>\n",
              "      <td>2014.000000</td>\n",
              "      <td>1.684936e+06</td>\n",
              "      <td>2828.000000</td>\n",
              "      <td>67.832500</td>\n",
              "      <td>83.032500</td>\n",
              "      <td>49.945000</td>\n",
              "      <td>66.817500</td>\n",
              "      <td>18.780000</td>\n",
              "      <td>...</td>\n",
              "      <td>0.050000</td>\n",
              "      <td>0.000000</td>\n",
              "      <td>0.310000</td>\n",
              "      <td>0.050000</td>\n",
              "      <td>0.260000</td>\n",
              "      <td>0.000000</td>\n",
              "      <td>0.040000</td>\n",
              "      <td>0.050000</td>\n",
              "      <td>0.300000</td>\n",
              "      <td>4.000000</td>\n",
              "    </tr>\n",
              "    <tr>\n",
              "      <th>max</th>\n",
              "      <td>2804.000000</td>\n",
              "      <td>12.000000</td>\n",
              "      <td>2017.000000</td>\n",
              "      <td>4.562291e+07</td>\n",
              "      <td>6088.000000</td>\n",
              "      <td>98.180000</td>\n",
              "      <td>99.000000</td>\n",
              "      <td>94.590000</td>\n",
              "      <td>99.000000</td>\n",
              "      <td>257.000000</td>\n",
              "      <td>...</td>\n",
              "      <td>0.970000</td>\n",
              "      <td>1.220000</td>\n",
              "      <td>1.750000</td>\n",
              "      <td>1.290000</td>\n",
              "      <td>2.950000</td>\n",
              "      <td>0.570000</td>\n",
              "      <td>0.710000</td>\n",
              "      <td>2.700000</td>\n",
              "      <td>3.520000</td>\n",
              "      <td>21.000000</td>\n",
              "    </tr>\n",
              "  </tbody>\n",
              "</table>\n",
              "<p>8 rows × 113 columns</p>\n",
              "</div>\n",
              "      <button class=\"colab-df-convert\" onclick=\"convertToInteractive('df-6f06c6da-4f43-4f6c-aa39-601a30e58a46')\"\n",
              "              title=\"Convert this dataframe to an interactive table.\"\n",
              "              style=\"display:none;\">\n",
              "        \n",
              "  <svg xmlns=\"http://www.w3.org/2000/svg\" height=\"24px\"viewBox=\"0 0 24 24\"\n",
              "       width=\"24px\">\n",
              "    <path d=\"M0 0h24v24H0V0z\" fill=\"none\"/>\n",
              "    <path d=\"M18.56 5.44l.94 2.06.94-2.06 2.06-.94-2.06-.94-.94-2.06-.94 2.06-2.06.94zm-11 1L8.5 8.5l.94-2.06 2.06-.94-2.06-.94L8.5 2.5l-.94 2.06-2.06.94zm10 10l.94 2.06.94-2.06 2.06-.94-2.06-.94-.94-2.06-.94 2.06-2.06.94z\"/><path d=\"M17.41 7.96l-1.37-1.37c-.4-.4-.92-.59-1.43-.59-.52 0-1.04.2-1.43.59L10.3 9.45l-7.72 7.72c-.78.78-.78 2.05 0 2.83L4 21.41c.39.39.9.59 1.41.59.51 0 1.02-.2 1.41-.59l7.78-7.78 2.81-2.81c.8-.78.8-2.07 0-2.86zM5.41 20L4 18.59l7.72-7.72 1.47 1.35L5.41 20z\"/>\n",
              "  </svg>\n",
              "      </button>\n",
              "      \n",
              "  <style>\n",
              "    .colab-df-container {\n",
              "      display:flex;\n",
              "      flex-wrap:wrap;\n",
              "      gap: 12px;\n",
              "    }\n",
              "\n",
              "    .colab-df-convert {\n",
              "      background-color: #E8F0FE;\n",
              "      border: none;\n",
              "      border-radius: 50%;\n",
              "      cursor: pointer;\n",
              "      display: none;\n",
              "      fill: #1967D2;\n",
              "      height: 32px;\n",
              "      padding: 0 0 0 0;\n",
              "      width: 32px;\n",
              "    }\n",
              "\n",
              "    .colab-df-convert:hover {\n",
              "      background-color: #E2EBFA;\n",
              "      box-shadow: 0px 1px 2px rgba(60, 64, 67, 0.3), 0px 1px 3px 1px rgba(60, 64, 67, 0.15);\n",
              "      fill: #174EA6;\n",
              "    }\n",
              "\n",
              "    [theme=dark] .colab-df-convert {\n",
              "      background-color: #3B4455;\n",
              "      fill: #D2E3FC;\n",
              "    }\n",
              "\n",
              "    [theme=dark] .colab-df-convert:hover {\n",
              "      background-color: #434B5C;\n",
              "      box-shadow: 0px 1px 3px 1px rgba(0, 0, 0, 0.15);\n",
              "      filter: drop-shadow(0px 1px 2px rgba(0, 0, 0, 0.3));\n",
              "      fill: #FFFFFF;\n",
              "    }\n",
              "  </style>\n",
              "\n",
              "      <script>\n",
              "        const buttonEl =\n",
              "          document.querySelector('#df-6f06c6da-4f43-4f6c-aa39-601a30e58a46 button.colab-df-convert');\n",
              "        buttonEl.style.display =\n",
              "          google.colab.kernel.accessAllowed ? 'block' : 'none';\n",
              "\n",
              "        async function convertToInteractive(key) {\n",
              "          const element = document.querySelector('#df-6f06c6da-4f43-4f6c-aa39-601a30e58a46');\n",
              "          const dataTable =\n",
              "            await google.colab.kernel.invokeFunction('convertToInteractive',\n",
              "                                                     [key], {});\n",
              "          if (!dataTable) return;\n",
              "\n",
              "          const docLinkHtml = 'Like what you see? Visit the ' +\n",
              "            '<a target=\"_blank\" href=https://colab.research.google.com/notebooks/data_table.ipynb>data table notebook</a>'\n",
              "            + ' to learn more about interactive tables.';\n",
              "          element.innerHTML = '';\n",
              "          dataTable['output_type'] = 'display_data';\n",
              "          await google.colab.output.renderOutput(dataTable, element);\n",
              "          const docLink = document.createElement('div');\n",
              "          docLink.innerHTML = docLinkHtml;\n",
              "          element.appendChild(docLink);\n",
              "        }\n",
              "      </script>\n",
              "    </div>\n",
              "  </div>\n",
              "  "
            ]
          },
          "metadata": {},
          "execution_count": 6
        }
      ],
      "source": [
        "data.describe() #Get the statistics of the dataset"
      ]
    },
    {
      "cell_type": "code",
      "source": [
        "data['category'].value_counts()"
      ],
      "metadata": {
        "id": "V1VJ9Vp7AAUC",
        "outputId": "6897aef2-8cec-47b0-cb78-b18f16e5dad5",
        "colab": {
          "base_uri": "https://localhost:8080/"
        }
      },
      "execution_count": null,
      "outputs": [
        {
          "output_type": "execute_result",
          "data": {
            "text/plain": [
              "Health/Science                 543\n",
              "Arts/Music/Entertainment       424\n",
              "Technology                     293\n",
              "Earth/Environment/Ecosystem    135\n",
              "Politics                       132\n",
              "World                          103\n",
              "Emotions/Behaviour/Humanity     65\n",
              "Family/Life                     55\n",
              "Career                          44\n",
              "Education                       42\n",
              "Identity                        40\n",
              "Media                           30\n",
              "Business                        23\n",
              "Religion                        21\n",
              "Law/Crime                       19\n",
              "Charity Efforts/Activism        13\n",
              "Travel                          13\n",
              "Animals/Aliens                  13\n",
              "Food                             7\n",
              "TED                              7\n",
              "History                          7\n",
              "Safety Concerns                  3\n",
              "Name: category, dtype: int64"
            ]
          },
          "metadata": {},
          "execution_count": 7
        }
      ]
    },
    {
      "cell_type": "code",
      "execution_count": null,
      "metadata": {
        "colab": {
          "base_uri": "https://localhost:8080/",
          "height": 426
        },
        "id": "EQ7UuL_TCyMG",
        "outputId": "650751fc-769d-40af-b0d5-f5046172f216"
      },
      "outputs": [
        {
          "output_type": "execute_result",
          "data": {
            "text/plain": [
              "<matplotlib.axes._subplots.AxesSubplot at 0x7f03f6369d10>"
            ]
          },
          "metadata": {},
          "execution_count": 8
        },
        {
          "output_type": "display_data",
          "data": {
            "text/plain": [
              "<Figure size 432x288 with 1 Axes>"
            ],
            "image/png": "[encoded data removed]"
          },
          "metadata": {
            "needs_background": "light"
          }
        }
      ],
      "source": [
        "#plots the number of TED Talks in each category\n",
        "data['category'].value_counts().plot(kind='bar')"
      ]
    },
    {
      "cell_type": "markdown",
      "metadata": {
        "id": "dL0ZhRCdpsyb"
      },
      "source": [
        "# Text Mining"
      ]
    },
    {
      "cell_type": "markdown",
      "source": [
        "#### Methods"
      ],
      "metadata": {
        "id": "sjG1Aw8Og95B"
      }
    },
    {
      "cell_type": "code",
      "execution_count": null,
      "metadata": {
        "colab": {
          "base_uri": "https://localhost:8080/"
        },
        "id": "FQATNYvFz1dE",
        "outputId": "2565931d-c7b9-4a40-b10d-31ea3a378ed0"
      },
      "outputs": [
        {
          "output_type": "stream",
          "name": "stdout",
          "text": [
            "[nltk_data] Downloading package stopwords to /root/nltk_data...\n",
            "[nltk_data]   Unzipping corpora/stopwords.zip.\n"
          ]
        }
      ],
      "source": [
        "from sklearn.feature_extraction import _stop_words\n",
        "import nltk\n",
        "from nltk.corpus import stopwords\n",
        "nltk.download('stopwords')\n",
        "stop_words = set(stopwords.words(\"english\"))\n",
        "\n",
        "#from nltk.tokenize import word_tokenize\n",
        "\n",
        "import re,string\n",
        "\n",
        "# function that takes a string, \n",
        "# turns it into lower case and removes stopwords and punctuation\n",
        "def clean_text(text):\n",
        "  # turn text into lowercase\n",
        "  text = text.lower()\n",
        "\n",
        "  # remove stopwords\n",
        "  text = ' '.join([word for word in text.split() if word not in stop_words])\n",
        "  \n",
        "  # remove punctuation (found at string.punctuation)\n",
        "  text = ''.join([word for word in text if word not in string.punctuation])\n",
        "  text = ' '.join([word for word in text.split() if word != 'im' and word != 'like' and word != 'likes' and word != 'it' and word != 'its' and word != 'really'])\n",
        "  \n",
        "  # return the clean text\n",
        "  return text"
      ]
    },
    {
      "cell_type": "code",
      "execution_count": null,
      "metadata": {
        "id": "XGa6fW_QAcz5"
      },
      "outputs": [],
      "source": [
        "# method to remove numbers from text\n",
        "# code adapted from: https://stackoverflow.com/questions/54396405/how-can-i-preprocess-nlp-text-lowercase-remove-special-characters-remove-numb\n",
        "def remove_numbers(text):\n",
        "    \n",
        "    removed_numbers = re.sub('[0-9]+', '', text)\n",
        "    return removed_numbers"
      ]
    },
    {
      "cell_type": "code",
      "execution_count": null,
      "metadata": {
        "colab": {
          "base_uri": "https://localhost:8080/"
        },
        "id": "IlhygRk33vpU",
        "outputId": "bc1c3138-1649-436e-ec78-f0132b7acad9"
      },
      "outputs": [
        {
          "output_type": "stream",
          "name": "stdout",
          "text": [
            "[nltk_data] Downloading package wordnet to /root/nltk_data...\n",
            "[nltk_data]   Unzipping corpora/wordnet.zip.\n",
            "[nltk_data] Downloading package omw-1.4 to /root/nltk_data...\n",
            "[nltk_data]   Unzipping corpora/omw-1.4.zip.\n",
            "[nltk_data] Downloading package punkt to /root/nltk_data...\n",
            "[nltk_data]   Unzipping tokenizers/punkt.zip.\n",
            "[nltk_data] Downloading package averaged_perceptron_tagger to\n",
            "[nltk_data]     /root/nltk_data...\n",
            "[nltk_data]   Unzipping taggers/averaged_perceptron_tagger.zip.\n"
          ]
        }
      ],
      "source": [
        "# initialize a letammatizer (to reduce words to their roots)\n",
        "wn = nltk.WordNetLemmatizer()\n",
        "nltk.download('wordnet') # have to run once\n",
        "nltk.download('omw-1.4') # have to run once\n",
        "nltk.download('punkt') # for tokenize\n",
        "nltk.download('averaged_perceptron_tagger') # for POS tag\n",
        "\n",
        "# function that takes a string,\n",
        "# splits it into inidivual words and stems each one of them,\n",
        "# return the array as a string to be saved in the dataframe\n",
        "stemmer = SnowballStemmer(\"english\")\n",
        "def stemming(text):\n",
        "  text = [stemmer.stem(word) for word in text.split()]\n",
        "  return str(text)"
      ]
    },
    {
      "cell_type": "markdown",
      "source": [
        "#### Apply data cleaning"
      ],
      "metadata": {
        "id": "zOr1nfPxhDUX"
      }
    },
    {
      "cell_type": "code",
      "execution_count": null,
      "metadata": {
        "id": "6dKdOgtq4O8J"
      },
      "outputs": [],
      "source": [
        "# add a 'no_numbers' column to remove numbers in the transcript (*limitation: does exclude all numbers, not just timestamp)\n",
        "transcript['no_numbers'] = transcript['transcript'].apply(lambda x: remove_numbers(str(x)))\n",
        "\n",
        "# add a 'non_stop' column to the dataframe that stores the clean version of every post\n",
        "transcript['non_stop'] = transcript['no_numbers'].apply(lambda x: clean_text(str(x))) # had to get rid of .strip() because was giving error (x.strip())\n",
        "\n",
        "# stemming of words\n",
        "transcript['stem']  = transcript['non_stop'].apply(lambda x: stemming(x))"
      ]
    },
    {
      "cell_type": "code",
      "execution_count": null,
      "metadata": {
        "colab": {
          "base_uri": "https://localhost:8080/",
          "height": 337
        },
        "id": "tSaxbh7yDm-G",
        "outputId": "57fe1149-e05f-4876-ae45-d02b762f7679"
      },
      "outputs": [
        {
          "output_type": "execute_result",
          "data": {
            "text/plain": [
              "                                          transcript  \\\n",
              "0  0:14\\n\\n\\nThank you so much, Chris.\\nAnd it's ...   \n",
              "1  0:11\\n\\n\\nIn terms of invention,\\nI'd like to ...   \n",
              "2  0:12\\n\\n\\nA public, Dewey long ago observed,\\n...   \n",
              "3  0:11\\n\\n\\nI want to start off by saying, Houst...   \n",
              "4  0:12\\n\\n\\nWhat I want to talk about is, as bac...   \n",
              "\n",
              "                                          no_numbers  \\\n",
              "0  :\\n\\n\\nThank you so much, Chris.\\nAnd it's tru...   \n",
              "1  :\\n\\n\\nIn terms of invention,\\nI'd like to tel...   \n",
              "2  :\\n\\n\\nA public, Dewey long ago observed,\\nis ...   \n",
              "3  :\\n\\n\\nI want to start off by saying, Houston,...   \n",
              "4  :\\n\\n\\nWhat I want to talk about is, as backgr...   \n",
              "\n",
              "                                            non_stop  \\\n",
              "0  thank much chris truly great honor opportunity...   \n",
              "1  terms invention id tell tale one favorite proj...   \n",
              "2  public dewey long ago observed constituted dis...   \n",
              "3  want start saying houston problem were enterin...   \n",
              "4  want talk is background idea cars art actually...   \n",
              "\n",
              "                                                stem  \n",
              "0  ['thank', 'much', 'chris', 'truli', 'great', '...  \n",
              "1  ['term', 'invent', 'id', 'tell', 'tale', 'one'...  \n",
              "2  ['public', 'dewey', 'long', 'ago', 'observ', '...  \n",
              "3  ['want', 'start', 'say', 'houston', 'problem',...  \n",
              "4  ['want', 'talk', 'is', 'background', 'idea', '...  "
            ],
            "text/html": [
              "\n",
              "  <div id=\"df-4b564b87-cb71-47ef-a18d-d4deb1471b07\">\n",
              "    <div class=\"colab-df-container\">\n",
              "      <div>\n",
              "<style scoped>\n",
              "    .dataframe tbody tr th:only-of-type {\n",
              "        vertical-align: middle;\n",
              "    }\n",
              "\n",
              "    .dataframe tbody tr th {\n",
              "        vertical-align: top;\n",
              "    }\n",
              "\n",
              "    .dataframe thead th {\n",
              "        text-align: right;\n",
              "    }\n",
              "</style>\n",
              "<table border=\"1\" class=\"dataframe\">\n",
              "  <thead>\n",
              "    <tr style=\"text-align: right;\">\n",
              "      <th></th>\n",
              "      <th>transcript</th>\n",
              "      <th>no_numbers</th>\n",
              "      <th>non_stop</th>\n",
              "      <th>stem</th>\n",
              "    </tr>\n",
              "  </thead>\n",
              "  <tbody>\n",
              "    <tr>\n",
              "      <th>0</th>\n",
              "      <td>0:14\\n\\n\\nThank you so much, Chris.\\nAnd it's ...</td>\n",
              "      <td>:\\n\\n\\nThank you so much, Chris.\\nAnd it's tru...</td>\n",
              "      <td>thank much chris truly great honor opportunity...</td>\n",
              "      <td>['thank', 'much', 'chris', 'truli', 'great', '...</td>\n",
              "    </tr>\n",
              "    <tr>\n",
              "      <th>1</th>\n",
              "      <td>0:11\\n\\n\\nIn terms of invention,\\nI'd like to ...</td>\n",
              "      <td>:\\n\\n\\nIn terms of invention,\\nI'd like to tel...</td>\n",
              "      <td>terms invention id tell tale one favorite proj...</td>\n",
              "      <td>['term', 'invent', 'id', 'tell', 'tale', 'one'...</td>\n",
              "    </tr>\n",
              "    <tr>\n",
              "      <th>2</th>\n",
              "      <td>0:12\\n\\n\\nA public, Dewey long ago observed,\\n...</td>\n",
              "      <td>:\\n\\n\\nA public, Dewey long ago observed,\\nis ...</td>\n",
              "      <td>public dewey long ago observed constituted dis...</td>\n",
              "      <td>['public', 'dewey', 'long', 'ago', 'observ', '...</td>\n",
              "    </tr>\n",
              "    <tr>\n",
              "      <th>3</th>\n",
              "      <td>0:11\\n\\n\\nI want to start off by saying, Houst...</td>\n",
              "      <td>:\\n\\n\\nI want to start off by saying, Houston,...</td>\n",
              "      <td>want start saying houston problem were enterin...</td>\n",
              "      <td>['want', 'start', 'say', 'houston', 'problem',...</td>\n",
              "    </tr>\n",
              "    <tr>\n",
              "      <th>4</th>\n",
              "      <td>0:12\\n\\n\\nWhat I want to talk about is, as bac...</td>\n",
              "      <td>:\\n\\n\\nWhat I want to talk about is, as backgr...</td>\n",
              "      <td>want talk is background idea cars art actually...</td>\n",
              "      <td>['want', 'talk', 'is', 'background', 'idea', '...</td>\n",
              "    </tr>\n",
              "  </tbody>\n",
              "</table>\n",
              "</div>\n",
              "      <button class=\"colab-df-convert\" onclick=\"convertToInteractive('df-4b564b87-cb71-47ef-a18d-d4deb1471b07')\"\n",
              "              title=\"Convert this dataframe to an interactive table.\"\n",
              "              style=\"display:none;\">\n",
              "        \n",
              "  <svg xmlns=\"http://www.w3.org/2000/svg\" height=\"24px\"viewBox=\"0 0 24 24\"\n",
              "       width=\"24px\">\n",
              "    <path d=\"M0 0h24v24H0V0z\" fill=\"none\"/>\n",
              "    <path d=\"M18.56 5.44l.94 2.06.94-2.06 2.06-.94-2.06-.94-.94-2.06-.94 2.06-2.06.94zm-11 1L8.5 8.5l.94-2.06 2.06-.94-2.06-.94L8.5 2.5l-.94 2.06-2.06.94zm10 10l.94 2.06.94-2.06 2.06-.94-2.06-.94-.94-2.06-.94 2.06-2.06.94z\"/><path d=\"M17.41 7.96l-1.37-1.37c-.4-.4-.92-.59-1.43-.59-.52 0-1.04.2-1.43.59L10.3 9.45l-7.72 7.72c-.78.78-.78 2.05 0 2.83L4 21.41c.39.39.9.59 1.41.59.51 0 1.02-.2 1.41-.59l7.78-7.78 2.81-2.81c.8-.78.8-2.07 0-2.86zM5.41 20L4 18.59l7.72-7.72 1.47 1.35L5.41 20z\"/>\n",
              "  </svg>\n",
              "      </button>\n",
              "      \n",
              "  <style>\n",
              "    .colab-df-container {\n",
              "      display:flex;\n",
              "      flex-wrap:wrap;\n",
              "      gap: 12px;\n",
              "    }\n",
              "\n",
              "    .colab-df-convert {\n",
              "      background-color: #E8F0FE;\n",
              "      border: none;\n",
              "      border-radius: 50%;\n",
              "      cursor: pointer;\n",
              "      display: none;\n",
              "      fill: #1967D2;\n",
              "      height: 32px;\n",
              "      padding: 0 0 0 0;\n",
              "      width: 32px;\n",
              "    }\n",
              "\n",
              "    .colab-df-convert:hover {\n",
              "      background-color: #E2EBFA;\n",
              "      box-shadow: 0px 1px 2px rgba(60, 64, 67, 0.3), 0px 1px 3px 1px rgba(60, 64, 67, 0.15);\n",
              "      fill: #174EA6;\n",
              "    }\n",
              "\n",
              "    [theme=dark] .colab-df-convert {\n",
              "      background-color: #3B4455;\n",
              "      fill: #D2E3FC;\n",
              "    }\n",
              "\n",
              "    [theme=dark] .colab-df-convert:hover {\n",
              "      background-color: #434B5C;\n",
              "      box-shadow: 0px 1px 3px 1px rgba(0, 0, 0, 0.15);\n",
              "      filter: drop-shadow(0px 1px 2px rgba(0, 0, 0, 0.3));\n",
              "      fill: #FFFFFF;\n",
              "    }\n",
              "  </style>\n",
              "\n",
              "      <script>\n",
              "        const buttonEl =\n",
              "          document.querySelector('#df-4b564b87-cb71-47ef-a18d-d4deb1471b07 button.colab-df-convert');\n",
              "        buttonEl.style.display =\n",
              "          google.colab.kernel.accessAllowed ? 'block' : 'none';\n",
              "\n",
              "        async function convertToInteractive(key) {\n",
              "          const element = document.querySelector('#df-4b564b87-cb71-47ef-a18d-d4deb1471b07');\n",
              "          const dataTable =\n",
              "            await google.colab.kernel.invokeFunction('convertToInteractive',\n",
              "                                                     [key], {});\n",
              "          if (!dataTable) return;\n",
              "\n",
              "          const docLinkHtml = 'Like what you see? Visit the ' +\n",
              "            '<a target=\"_blank\" href=https://colab.research.google.com/notebooks/data_table.ipynb>data table notebook</a>'\n",
              "            + ' to learn more about interactive tables.';\n",
              "          element.innerHTML = '';\n",
              "          dataTable['output_type'] = 'display_data';\n",
              "          await google.colab.output.renderOutput(dataTable, element);\n",
              "          const docLink = document.createElement('div');\n",
              "          docLink.innerHTML = docLinkHtml;\n",
              "          element.appendChild(docLink);\n",
              "        }\n",
              "      </script>\n",
              "    </div>\n",
              "  </div>\n",
              "  "
            ]
          },
          "metadata": {},
          "execution_count": 13
        }
      ],
      "source": [
        "# show the first 5 rows\n",
        "transcript.head()"
      ]
    },
    {
      "cell_type": "markdown",
      "source": [
        "#### TFIDF"
      ],
      "metadata": {
        "id": "LKaRLfQshL3W"
      }
    },
    {
      "cell_type": "code",
      "execution_count": null,
      "metadata": {
        "id": "5mdgQAUB79tD"
      },
      "outputs": [],
      "source": [
        "# TFIDF\n",
        "\n",
        "from sklearn.feature_extraction.text import TfidfVectorizer\n",
        "\n",
        "# initialize a tf-idf vectorizer with english stop words, with a maximum amount of features\n",
        "vectorizer_tfidf = TfidfVectorizer(stop_words='english', max_features = 2000)\n",
        "# initialize a tf-idf vectorizer to instill 1+log(tf)\n",
        "vectorizer = TfidfVectorizer(sublinear_tf=True, min_df=5, max_df=0.95)\n",
        "\n",
        "\n",
        "## fit and transform the lemmatized words through the vectorizer\n",
        "# this will give the numbers inside the matrix\n",
        "vectors_tfidf = vectorizer_tfidf.fit_transform(transcript['stem']) \n",
        "# put this as columns in pandas dataframe\n",
        "feature_names = vectorizer_tfidf.get_feature_names_out()\n",
        "\n",
        "# to add the TFIDF into a data frame\n",
        "dense = vectors_tfidf.todense()\n",
        "denselist = dense.tolist()\n",
        "tfidf_df = pd.DataFrame(denselist, columns = feature_names)"
      ]
    },
    {
      "cell_type": "code",
      "execution_count": null,
      "metadata": {
        "colab": {
          "base_uri": "https://localhost:8080/",
          "height": 488
        },
        "id": "8mQcbmw9jpnN",
        "outputId": "e67e1fc7-4fa9-4729-95de-2cde2d6bc82f"
      },
      "outputs": [
        {
          "output_type": "execute_result",
          "data": {
            "text/plain": [
              "          abil       abl  absolut  abstract  abus    academ   acceler  \\\n",
              "0     0.000000  0.000000  0.00000       0.0   0.0  0.000000  0.000000   \n",
              "1     0.017582  0.023171  0.00000       0.0   0.0  0.000000  0.000000   \n",
              "2     0.017473  0.046053  0.05251       0.0   0.0  0.000000  0.000000   \n",
              "3     0.014483  0.019087  0.00000       0.0   0.0  0.000000  0.000000   \n",
              "4     0.000000  0.008667  0.00000       0.0   0.0  0.000000  0.000000   \n",
              "...        ...       ...      ...       ...   ...       ...       ...   \n",
              "2027  0.043560  0.014351  0.00000       0.0   0.0  0.000000  0.000000   \n",
              "2028  0.047724  0.000000  0.00000       0.0   0.0  0.000000  0.000000   \n",
              "2029  0.000000  0.016566  0.00000       0.0   0.0  0.039428  0.000000   \n",
              "2030  0.000000  0.000000  0.00000       0.0   0.0  0.000000  0.000000   \n",
              "2031  0.000000  0.000000  0.00000       0.0   0.0  0.000000  0.060707   \n",
              "\n",
              "        accept    access  accid  ...   yearold  yellow       yes  yesterday  \\\n",
              "0     0.000000  0.000000    0.0  ...  0.000000     0.0  0.020175   0.034469   \n",
              "1     0.000000  0.018142    0.0  ...  0.000000     0.0  0.000000   0.000000   \n",
              "2     0.020937  0.018029    0.0  ...  0.000000     0.0  0.015240   0.000000   \n",
              "3     0.000000  0.000000    0.0  ...  0.054106     0.0  0.000000   0.000000   \n",
              "4     0.031524  0.000000    0.0  ...  0.000000     0.0  0.000000   0.000000   \n",
              "...        ...       ...    ...  ...       ...     ...       ...        ...   \n",
              "2027  0.000000  0.000000    0.0  ...  0.027122     0.0  0.000000   0.000000   \n",
              "2028  0.000000  0.000000    0.0  ...  0.000000     0.0  0.000000   0.000000   \n",
              "2029  0.000000  0.000000    0.0  ...  0.000000     0.0  0.021929   0.000000   \n",
              "2030  0.000000  0.000000    0.0  ...  0.000000     0.0  0.000000   0.000000   \n",
              "2031  0.000000  0.000000    0.0  ...  0.000000     0.0  0.000000   0.000000   \n",
              "\n",
              "          york     young   younger      zero  zone  zoom  \n",
              "0     0.000000  0.020146  0.000000  0.000000   0.0   0.0  \n",
              "1     0.000000  0.000000  0.000000  0.000000   0.0   0.0  \n",
              "2     0.000000  0.000000  0.000000  0.045442   0.0   0.0  \n",
              "3     0.000000  0.025228  0.000000  0.000000   0.0   0.0  \n",
              "4     0.014193  0.011456  0.000000  0.000000   0.0   0.0  \n",
              "...        ...       ...       ...       ...   ...   ...  \n",
              "2027  0.094000  0.000000  0.000000  0.000000   0.0   0.0  \n",
              "2028  0.000000  0.000000  0.000000  0.000000   0.0   0.0  \n",
              "2029  0.000000  0.021897  0.040178  0.000000   0.0   0.0  \n",
              "2030  0.000000  0.041852  0.000000  0.000000   0.0   0.0  \n",
              "2031  0.000000  0.000000  0.000000  0.051132   0.0   0.0  \n",
              "\n",
              "[2032 rows x 2000 columns]"
            ],
            "text/html": [
              "\n",
              "  <div id=\"df-70926a85-b4bf-4d02-a679-ba3474e9bee3\">\n",
              "    <div class=\"colab-df-container\">\n",
              "      <div>\n",
              "<style scoped>\n",
              "    .dataframe tbody tr th:only-of-type {\n",
              "        vertical-align: middle;\n",
              "    }\n",
              "\n",
              "    .dataframe tbody tr th {\n",
              "        vertical-align: top;\n",
              "    }\n",
              "\n",
              "    .dataframe thead th {\n",
              "        text-align: right;\n",
              "    }\n",
              "</style>\n",
              "<table border=\"1\" class=\"dataframe\">\n",
              "  <thead>\n",
              "    <tr style=\"text-align: right;\">\n",
              "      <th></th>\n",
              "      <th>abil</th>\n",
              "      <th>abl</th>\n",
              "      <th>absolut</th>\n",
              "      <th>abstract</th>\n",
              "      <th>abus</th>\n",
              "      <th>academ</th>\n",
              "      <th>acceler</th>\n",
              "      <th>accept</th>\n",
              "      <th>access</th>\n",
              "      <th>accid</th>\n",
              "      <th>...</th>\n",
              "      <th>yearold</th>\n",
              "      <th>yellow</th>\n",
              "      <th>yes</th>\n",
              "      <th>yesterday</th>\n",
              "      <th>york</th>\n",
              "      <th>young</th>\n",
              "      <th>younger</th>\n",
              "      <th>zero</th>\n",
              "      <th>zone</th>\n",
              "      <th>zoom</th>\n",
              "    </tr>\n",
              "  </thead>\n",
              "  <tbody>\n",
              "    <tr>\n",
              "      <th>0</th>\n",
              "      <td>0.000000</td>\n",
              "      <td>0.000000</td>\n",
              "      <td>0.00000</td>\n",
              "      <td>0.0</td>\n",
              "      <td>0.0</td>\n",
              "      <td>0.000000</td>\n",
              "      <td>0.000000</td>\n",
              "      <td>0.000000</td>\n",
              "      <td>0.000000</td>\n",
              "      <td>0.0</td>\n",
              "      <td>...</td>\n",
              "      <td>0.000000</td>\n",
              "      <td>0.0</td>\n",
              "      <td>0.020175</td>\n",
              "      <td>0.034469</td>\n",
              "      <td>0.000000</td>\n",
              "      <td>0.020146</td>\n",
              "      <td>0.000000</td>\n",
              "      <td>0.000000</td>\n",
              "      <td>0.0</td>\n",
              "      <td>0.0</td>\n",
              "    </tr>\n",
              "    <tr>\n",
              "      <th>1</th>\n",
              "      <td>0.017582</td>\n",
              "      <td>0.023171</td>\n",
              "      <td>0.00000</td>\n",
              "      <td>0.0</td>\n",
              "      <td>0.0</td>\n",
              "      <td>0.000000</td>\n",
              "      <td>0.000000</td>\n",
              "      <td>0.000000</td>\n",
              "      <td>0.018142</td>\n",
              "      <td>0.0</td>\n",
              "      <td>...</td>\n",
              "      <td>0.000000</td>\n",
              "      <td>0.0</td>\n",
              "      <td>0.000000</td>\n",
              "      <td>0.000000</td>\n",
              "      <td>0.000000</td>\n",
              "      <td>0.000000</td>\n",
              "      <td>0.000000</td>\n",
              "      <td>0.000000</td>\n",
              "      <td>0.0</td>\n",
              "      <td>0.0</td>\n",
              "    </tr>\n",
              "    <tr>\n",
              "      <th>2</th>\n",
              "      <td>0.017473</td>\n",
              "      <td>0.046053</td>\n",
              "      <td>0.05251</td>\n",
              "      <td>0.0</td>\n",
              "      <td>0.0</td>\n",
              "      <td>0.000000</td>\n",
              "      <td>0.000000</td>\n",
              "      <td>0.020937</td>\n",
              "      <td>0.018029</td>\n",
              "      <td>0.0</td>\n",
              "      <td>...</td>\n",
              "      <td>0.000000</td>\n",
              "      <td>0.0</td>\n",
              "      <td>0.015240</td>\n",
              "      <td>0.000000</td>\n",
              "      <td>0.000000</td>\n",
              "      <td>0.000000</td>\n",
              "      <td>0.000000</td>\n",
              "      <td>0.045442</td>\n",
              "      <td>0.0</td>\n",
              "      <td>0.0</td>\n",
              "    </tr>\n",
              "    <tr>\n",
              "      <th>3</th>\n",
              "      <td>0.014483</td>\n",
              "      <td>0.019087</td>\n",
              "      <td>0.00000</td>\n",
              "      <td>0.0</td>\n",
              "      <td>0.0</td>\n",
              "      <td>0.000000</td>\n",
              "      <td>0.000000</td>\n",
              "      <td>0.000000</td>\n",
              "      <td>0.000000</td>\n",
              "      <td>0.0</td>\n",
              "      <td>...</td>\n",
              "      <td>0.054106</td>\n",
              "      <td>0.0</td>\n",
              "      <td>0.000000</td>\n",
              "      <td>0.000000</td>\n",
              "      <td>0.000000</td>\n",
              "      <td>0.025228</td>\n",
              "      <td>0.000000</td>\n",
              "      <td>0.000000</td>\n",
              "      <td>0.0</td>\n",
              "      <td>0.0</td>\n",
              "    </tr>\n",
              "    <tr>\n",
              "      <th>4</th>\n",
              "      <td>0.000000</td>\n",
              "      <td>0.008667</td>\n",
              "      <td>0.00000</td>\n",
              "      <td>0.0</td>\n",
              "      <td>0.0</td>\n",
              "      <td>0.000000</td>\n",
              "      <td>0.000000</td>\n",
              "      <td>0.031524</td>\n",
              "      <td>0.000000</td>\n",
              "      <td>0.0</td>\n",
              "      <td>...</td>\n",
              "      <td>0.000000</td>\n",
              "      <td>0.0</td>\n",
              "      <td>0.000000</td>\n",
              "      <td>0.000000</td>\n",
              "      <td>0.014193</td>\n",
              "      <td>0.011456</td>\n",
              "      <td>0.000000</td>\n",
              "      <td>0.000000</td>\n",
              "      <td>0.0</td>\n",
              "      <td>0.0</td>\n",
              "    </tr>\n",
              "    <tr>\n",
              "      <th>...</th>\n",
              "      <td>...</td>\n",
              "      <td>...</td>\n",
              "      <td>...</td>\n",
              "      <td>...</td>\n",
              "      <td>...</td>\n",
              "      <td>...</td>\n",
              "      <td>...</td>\n",
              "      <td>...</td>\n",
              "      <td>...</td>\n",
              "      <td>...</td>\n",
              "      <td>...</td>\n",
              "      <td>...</td>\n",
              "      <td>...</td>\n",
              "      <td>...</td>\n",
              "      <td>...</td>\n",
              "      <td>...</td>\n",
              "      <td>...</td>\n",
              "      <td>...</td>\n",
              "      <td>...</td>\n",
              "      <td>...</td>\n",
              "      <td>...</td>\n",
              "    </tr>\n",
              "    <tr>\n",
              "      <th>2027</th>\n",
              "      <td>0.043560</td>\n",
              "      <td>0.014351</td>\n",
              "      <td>0.00000</td>\n",
              "      <td>0.0</td>\n",
              "      <td>0.0</td>\n",
              "      <td>0.000000</td>\n",
              "      <td>0.000000</td>\n",
              "      <td>0.000000</td>\n",
              "      <td>0.000000</td>\n",
              "      <td>0.0</td>\n",
              "      <td>...</td>\n",
              "      <td>0.027122</td>\n",
              "      <td>0.0</td>\n",
              "      <td>0.000000</td>\n",
              "      <td>0.000000</td>\n",
              "      <td>0.094000</td>\n",
              "      <td>0.000000</td>\n",
              "      <td>0.000000</td>\n",
              "      <td>0.000000</td>\n",
              "      <td>0.0</td>\n",
              "      <td>0.0</td>\n",
              "    </tr>\n",
              "    <tr>\n",
              "      <th>2028</th>\n",
              "      <td>0.047724</td>\n",
              "      <td>0.000000</td>\n",
              "      <td>0.00000</td>\n",
              "      <td>0.0</td>\n",
              "      <td>0.0</td>\n",
              "      <td>0.000000</td>\n",
              "      <td>0.000000</td>\n",
              "      <td>0.000000</td>\n",
              "      <td>0.000000</td>\n",
              "      <td>0.0</td>\n",
              "      <td>...</td>\n",
              "      <td>0.000000</td>\n",
              "      <td>0.0</td>\n",
              "      <td>0.000000</td>\n",
              "      <td>0.000000</td>\n",
              "      <td>0.000000</td>\n",
              "      <td>0.000000</td>\n",
              "      <td>0.000000</td>\n",
              "      <td>0.000000</td>\n",
              "      <td>0.0</td>\n",
              "      <td>0.0</td>\n",
              "    </tr>\n",
              "    <tr>\n",
              "      <th>2029</th>\n",
              "      <td>0.000000</td>\n",
              "      <td>0.016566</td>\n",
              "      <td>0.00000</td>\n",
              "      <td>0.0</td>\n",
              "      <td>0.0</td>\n",
              "      <td>0.039428</td>\n",
              "      <td>0.000000</td>\n",
              "      <td>0.000000</td>\n",
              "      <td>0.000000</td>\n",
              "      <td>0.0</td>\n",
              "      <td>...</td>\n",
              "      <td>0.000000</td>\n",
              "      <td>0.0</td>\n",
              "      <td>0.021929</td>\n",
              "      <td>0.000000</td>\n",
              "      <td>0.000000</td>\n",
              "      <td>0.021897</td>\n",
              "      <td>0.040178</td>\n",
              "      <td>0.000000</td>\n",
              "      <td>0.0</td>\n",
              "      <td>0.0</td>\n",
              "    </tr>\n",
              "    <tr>\n",
              "      <th>2030</th>\n",
              "      <td>0.000000</td>\n",
              "      <td>0.000000</td>\n",
              "      <td>0.00000</td>\n",
              "      <td>0.0</td>\n",
              "      <td>0.0</td>\n",
              "      <td>0.000000</td>\n",
              "      <td>0.000000</td>\n",
              "      <td>0.000000</td>\n",
              "      <td>0.000000</td>\n",
              "      <td>0.0</td>\n",
              "      <td>...</td>\n",
              "      <td>0.000000</td>\n",
              "      <td>0.0</td>\n",
              "      <td>0.000000</td>\n",
              "      <td>0.000000</td>\n",
              "      <td>0.000000</td>\n",
              "      <td>0.041852</td>\n",
              "      <td>0.000000</td>\n",
              "      <td>0.000000</td>\n",
              "      <td>0.0</td>\n",
              "      <td>0.0</td>\n",
              "    </tr>\n",
              "    <tr>\n",
              "      <th>2031</th>\n",
              "      <td>0.000000</td>\n",
              "      <td>0.000000</td>\n",
              "      <td>0.00000</td>\n",
              "      <td>0.0</td>\n",
              "      <td>0.0</td>\n",
              "      <td>0.000000</td>\n",
              "      <td>0.060707</td>\n",
              "      <td>0.000000</td>\n",
              "      <td>0.000000</td>\n",
              "      <td>0.0</td>\n",
              "      <td>...</td>\n",
              "      <td>0.000000</td>\n",
              "      <td>0.0</td>\n",
              "      <td>0.000000</td>\n",
              "      <td>0.000000</td>\n",
              "      <td>0.000000</td>\n",
              "      <td>0.000000</td>\n",
              "      <td>0.000000</td>\n",
              "      <td>0.051132</td>\n",
              "      <td>0.0</td>\n",
              "      <td>0.0</td>\n",
              "    </tr>\n",
              "  </tbody>\n",
              "</table>\n",
              "<p>2032 rows × 2000 columns</p>\n",
              "</div>\n",
              "      <button class=\"colab-df-convert\" onclick=\"convertToInteractive('df-70926a85-b4bf-4d02-a679-ba3474e9bee3')\"\n",
              "              title=\"Convert this dataframe to an interactive table.\"\n",
              "              style=\"display:none;\">\n",
              "        \n",
              "  <svg xmlns=\"http://www.w3.org/2000/svg\" height=\"24px\"viewBox=\"0 0 24 24\"\n",
              "       width=\"24px\">\n",
              "    <path d=\"M0 0h24v24H0V0z\" fill=\"none\"/>\n",
              "    <path d=\"M18.56 5.44l.94 2.06.94-2.06 2.06-.94-2.06-.94-.94-2.06-.94 2.06-2.06.94zm-11 1L8.5 8.5l.94-2.06 2.06-.94-2.06-.94L8.5 2.5l-.94 2.06-2.06.94zm10 10l.94 2.06.94-2.06 2.06-.94-2.06-.94-.94-2.06-.94 2.06-2.06.94z\"/><path d=\"M17.41 7.96l-1.37-1.37c-.4-.4-.92-.59-1.43-.59-.52 0-1.04.2-1.43.59L10.3 9.45l-7.72 7.72c-.78.78-.78 2.05 0 2.83L4 21.41c.39.39.9.59 1.41.59.51 0 1.02-.2 1.41-.59l7.78-7.78 2.81-2.81c.8-.78.8-2.07 0-2.86zM5.41 20L4 18.59l7.72-7.72 1.47 1.35L5.41 20z\"/>\n",
              "  </svg>\n",
              "      </button>\n",
              "      \n",
              "  <style>\n",
              "    .colab-df-container {\n",
              "      display:flex;\n",
              "      flex-wrap:wrap;\n",
              "      gap: 12px;\n",
              "    }\n",
              "\n",
              "    .colab-df-convert {\n",
              "      background-color: #E8F0FE;\n",
              "      border: none;\n",
              "      border-radius: 50%;\n",
              "      cursor: pointer;\n",
              "      display: none;\n",
              "      fill: #1967D2;\n",
              "      height: 32px;\n",
              "      padding: 0 0 0 0;\n",
              "      width: 32px;\n",
              "    }\n",
              "\n",
              "    .colab-df-convert:hover {\n",
              "      background-color: #E2EBFA;\n",
              "      box-shadow: 0px 1px 2px rgba(60, 64, 67, 0.3), 0px 1px 3px 1px rgba(60, 64, 67, 0.15);\n",
              "      fill: #174EA6;\n",
              "    }\n",
              "\n",
              "    [theme=dark] .colab-df-convert {\n",
              "      background-color: #3B4455;\n",
              "      fill: #D2E3FC;\n",
              "    }\n",
              "\n",
              "    [theme=dark] .colab-df-convert:hover {\n",
              "      background-color: #434B5C;\n",
              "      box-shadow: 0px 1px 3px 1px rgba(0, 0, 0, 0.15);\n",
              "      filter: drop-shadow(0px 1px 2px rgba(0, 0, 0, 0.3));\n",
              "      fill: #FFFFFF;\n",
              "    }\n",
              "  </style>\n",
              "\n",
              "      <script>\n",
              "        const buttonEl =\n",
              "          document.querySelector('#df-70926a85-b4bf-4d02-a679-ba3474e9bee3 button.colab-df-convert');\n",
              "        buttonEl.style.display =\n",
              "          google.colab.kernel.accessAllowed ? 'block' : 'none';\n",
              "\n",
              "        async function convertToInteractive(key) {\n",
              "          const element = document.querySelector('#df-70926a85-b4bf-4d02-a679-ba3474e9bee3');\n",
              "          const dataTable =\n",
              "            await google.colab.kernel.invokeFunction('convertToInteractive',\n",
              "                                                     [key], {});\n",
              "          if (!dataTable) return;\n",
              "\n",
              "          const docLinkHtml = 'Like what you see? Visit the ' +\n",
              "            '<a target=\"_blank\" href=https://colab.research.google.com/notebooks/data_table.ipynb>data table notebook</a>'\n",
              "            + ' to learn more about interactive tables.';\n",
              "          element.innerHTML = '';\n",
              "          dataTable['output_type'] = 'display_data';\n",
              "          await google.colab.output.renderOutput(dataTable, element);\n",
              "          const docLink = document.createElement('div');\n",
              "          docLink.innerHTML = docLinkHtml;\n",
              "          element.appendChild(docLink);\n",
              "        }\n",
              "      </script>\n",
              "    </div>\n",
              "  </div>\n",
              "  "
            ]
          },
          "metadata": {},
          "execution_count": 15
        }
      ],
      "source": [
        "tfidf_df"
      ]
    },
    {
      "cell_type": "markdown",
      "source": [
        "####Count Vectorizer"
      ],
      "metadata": {
        "id": "oXHZACXnhSG-"
      }
    },
    {
      "cell_type": "code",
      "execution_count": null,
      "metadata": {
        "id": "FSvtKqsC0k8U"
      },
      "outputs": [],
      "source": [
        "# count vectorizer\n",
        "\n",
        "from sklearn.feature_extraction.text import CountVectorizer\n",
        "# initialize a count vectorizer with english stop words, with a maximum amount of features\n",
        "vectorizer_count = CountVectorizer(stop_words='english', max_features = 2000)\n",
        "\n",
        "## fit and transform the lemmatized words through the vectorizer\n",
        "# this will give the numbers inside the matrix\n",
        "vectors_count = vectorizer_count.fit_transform(transcript['stem'])\n",
        "\n",
        "# put this as columns in pandas dataframe\n",
        "feature_names_count_vec = vectorizer_count.get_feature_names_out() \n",
        "\n",
        "# to add the count vectorizer into a data frame\n",
        "dense_c = vectors_count.todense()\n",
        "denselist_c = dense_c.tolist()\n",
        "count_df = pd.DataFrame(denselist_c, columns = feature_names)"
      ]
    },
    {
      "cell_type": "code",
      "execution_count": null,
      "metadata": {
        "colab": {
          "base_uri": "https://localhost:8080/",
          "height": 488
        },
        "id": "HmiEOQNc22_X",
        "outputId": "b68c56cb-6eeb-4434-e5e1-d40b53f1a7d4"
      },
      "outputs": [
        {
          "output_type": "execute_result",
          "data": {
            "text/plain": [
              "      abil  abl  absolut  abstract  abus  academ  acceler  accept  access  \\\n",
              "0        0    0        0         0     0       0        0       0       0   \n",
              "1        1    2        0         0     0       0        0       0       1   \n",
              "2        1    4        3         0     0       0        0       1       1   \n",
              "3        1    2        0         0     0       0        0       0       0   \n",
              "4        0    1        0         0     0       0        0       2       0   \n",
              "...    ...  ...      ...       ...   ...     ...      ...     ...     ...   \n",
              "2027     2    1        0         0     0       0        0       0       0   \n",
              "2028     2    0        0         0     0       0        0       0       0   \n",
              "2029     0    1        0         0     0       1        0       0       0   \n",
              "2030     0    0        0         0     0       0        0       0       0   \n",
              "2031     0    0        0         0     0       0        1       0       0   \n",
              "\n",
              "      accid  ...  yearold  yellow  yes  yesterday  york  young  younger  zero  \\\n",
              "0         0  ...        0       0    1          1     0      1        0     0   \n",
              "1         0  ...        0       0    0          0     0      0        0     0   \n",
              "2         0  ...        0       0    1          0     0      0        0     2   \n",
              "3         0  ...        3       0    0          0     0      2        0     0   \n",
              "4         0  ...        0       0    0          0     1      1        0     0   \n",
              "...     ...  ...      ...     ...  ...        ...   ...    ...      ...   ...   \n",
              "2027      0  ...        1       0    0          0     4      0        0     0   \n",
              "2028      0  ...        0       0    0          0     0      0        0     0   \n",
              "2029      0  ...        0       0    1          0     0      1        1     0   \n",
              "2030      0  ...        0       0    0          0     0      2        0     0   \n",
              "2031      0  ...        0       0    0          0     0      0        0     1   \n",
              "\n",
              "      zone  zoom  \n",
              "0        0     0  \n",
              "1        0     0  \n",
              "2        0     0  \n",
              "3        0     0  \n",
              "4        0     0  \n",
              "...    ...   ...  \n",
              "2027     0     0  \n",
              "2028     0     0  \n",
              "2029     0     0  \n",
              "2030     0     0  \n",
              "2031     0     0  \n",
              "\n",
              "[2032 rows x 2000 columns]"
            ],
            "text/html": [
              "\n",
              "  <div id=\"df-e4da6d57-7449-42d9-a4a4-5f17dec31b53\">\n",
              "    <div class=\"colab-df-container\">\n",
              "      <div>\n",
              "<style scoped>\n",
              "    .dataframe tbody tr th:only-of-type {\n",
              "        vertical-align: middle;\n",
              "    }\n",
              "\n",
              "    .dataframe tbody tr th {\n",
              "        vertical-align: top;\n",
              "    }\n",
              "\n",
              "    .dataframe thead th {\n",
              "        text-align: right;\n",
              "    }\n",
              "</style>\n",
              "<table border=\"1\" class=\"dataframe\">\n",
              "  <thead>\n",
              "    <tr style=\"text-align: right;\">\n",
              "      <th></th>\n",
              "      <th>abil</th>\n",
              "      <th>abl</th>\n",
              "      <th>absolut</th>\n",
              "      <th>abstract</th>\n",
              "      <th>abus</th>\n",
              "      <th>academ</th>\n",
              "      <th>acceler</th>\n",
              "      <th>accept</th>\n",
              "      <th>access</th>\n",
              "      <th>accid</th>\n",
              "      <th>...</th>\n",
              "      <th>yearold</th>\n",
              "      <th>yellow</th>\n",
              "      <th>yes</th>\n",
              "      <th>yesterday</th>\n",
              "      <th>york</th>\n",
              "      <th>young</th>\n",
              "      <th>younger</th>\n",
              "      <th>zero</th>\n",
              "      <th>zone</th>\n",
              "      <th>zoom</th>\n",
              "    </tr>\n",
              "  </thead>\n",
              "  <tbody>\n",
              "    <tr>\n",
              "      <th>0</th>\n",
              "      <td>0</td>\n",
              "      <td>0</td>\n",
              "      <td>0</td>\n",
              "      <td>0</td>\n",
              "      <td>0</td>\n",
              "      <td>0</td>\n",
              "      <td>0</td>\n",
              "      <td>0</td>\n",
              "      <td>0</td>\n",
              "      <td>0</td>\n",
              "      <td>...</td>\n",
              "      <td>0</td>\n",
              "      <td>0</td>\n",
              "      <td>1</td>\n",
              "      <td>1</td>\n",
              "      <td>0</td>\n",
              "      <td>1</td>\n",
              "      <td>0</td>\n",
              "      <td>0</td>\n",
              "      <td>0</td>\n",
              "      <td>0</td>\n",
              "    </tr>\n",
              "    <tr>\n",
              "      <th>1</th>\n",
              "      <td>1</td>\n",
              "      <td>2</td>\n",
              "      <td>0</td>\n",
              "      <td>0</td>\n",
              "      <td>0</td>\n",
              "      <td>0</td>\n",
              "      <td>0</td>\n",
              "      <td>0</td>\n",
              "      <td>1</td>\n",
              "      <td>0</td>\n",
              "      <td>...</td>\n",
              "      <td>0</td>\n",
              "      <td>0</td>\n",
              "      <td>0</td>\n",
              "      <td>0</td>\n",
              "      <td>0</td>\n",
              "      <td>0</td>\n",
              "      <td>0</td>\n",
              "      <td>0</td>\n",
              "      <td>0</td>\n",
              "      <td>0</td>\n",
              "    </tr>\n",
              "    <tr>\n",
              "      <th>2</th>\n",
              "      <td>1</td>\n",
              "      <td>4</td>\n",
              "      <td>3</td>\n",
              "      <td>0</td>\n",
              "      <td>0</td>\n",
              "      <td>0</td>\n",
              "      <td>0</td>\n",
              "      <td>1</td>\n",
              "      <td>1</td>\n",
              "      <td>0</td>\n",
              "      <td>...</td>\n",
              "      <td>0</td>\n",
              "      <td>0</td>\n",
              "      <td>1</td>\n",
              "      <td>0</td>\n",
              "      <td>0</td>\n",
              "      <td>0</td>\n",
              "      <td>0</td>\n",
              "      <td>2</td>\n",
              "      <td>0</td>\n",
              "      <td>0</td>\n",
              "    </tr>\n",
              "    <tr>\n",
              "      <th>3</th>\n",
              "      <td>1</td>\n",
              "      <td>2</td>\n",
              "      <td>0</td>\n",
              "      <td>0</td>\n",
              "      <td>0</td>\n",
              "      <td>0</td>\n",
              "      <td>0</td>\n",
              "      <td>0</td>\n",
              "      <td>0</td>\n",
              "      <td>0</td>\n",
              "      <td>...</td>\n",
              "      <td>3</td>\n",
              "      <td>0</td>\n",
              "      <td>0</td>\n",
              "      <td>0</td>\n",
              "      <td>0</td>\n",
              "      <td>2</td>\n",
              "      <td>0</td>\n",
              "      <td>0</td>\n",
              "      <td>0</td>\n",
              "      <td>0</td>\n",
              "    </tr>\n",
              "    <tr>\n",
              "      <th>4</th>\n",
              "      <td>0</td>\n",
              "      <td>1</td>\n",
              "      <td>0</td>\n",
              "      <td>0</td>\n",
              "      <td>0</td>\n",
              "      <td>0</td>\n",
              "      <td>0</td>\n",
              "      <td>2</td>\n",
              "      <td>0</td>\n",
              "      <td>0</td>\n",
              "      <td>...</td>\n",
              "      <td>0</td>\n",
              "      <td>0</td>\n",
              "      <td>0</td>\n",
              "      <td>0</td>\n",
              "      <td>1</td>\n",
              "      <td>1</td>\n",
              "      <td>0</td>\n",
              "      <td>0</td>\n",
              "      <td>0</td>\n",
              "      <td>0</td>\n",
              "    </tr>\n",
              "    <tr>\n",
              "      <th>...</th>\n",
              "      <td>...</td>\n",
              "      <td>...</td>\n",
              "      <td>...</td>\n",
              "      <td>...</td>\n",
              "      <td>...</td>\n",
              "      <td>...</td>\n",
              "      <td>...</td>\n",
              "      <td>...</td>\n",
              "      <td>...</td>\n",
              "      <td>...</td>\n",
              "      <td>...</td>\n",
              "      <td>...</td>\n",
              "      <td>...</td>\n",
              "      <td>...</td>\n",
              "      <td>...</td>\n",
              "      <td>...</td>\n",
              "      <td>...</td>\n",
              "      <td>...</td>\n",
              "      <td>...</td>\n",
              "      <td>...</td>\n",
              "      <td>...</td>\n",
              "    </tr>\n",
              "    <tr>\n",
              "      <th>2027</th>\n",
              "      <td>2</td>\n",
              "      <td>1</td>\n",
              "      <td>0</td>\n",
              "      <td>0</td>\n",
              "      <td>0</td>\n",
              "      <td>0</td>\n",
              "      <td>0</td>\n",
              "      <td>0</td>\n",
              "      <td>0</td>\n",
              "      <td>0</td>\n",
              "      <td>...</td>\n",
              "      <td>1</td>\n",
              "      <td>0</td>\n",
              "      <td>0</td>\n",
              "      <td>0</td>\n",
              "      <td>4</td>\n",
              "      <td>0</td>\n",
              "      <td>0</td>\n",
              "      <td>0</td>\n",
              "      <td>0</td>\n",
              "      <td>0</td>\n",
              "    </tr>\n",
              "    <tr>\n",
              "      <th>2028</th>\n",
              "      <td>2</td>\n",
              "      <td>0</td>\n",
              "      <td>0</td>\n",
              "      <td>0</td>\n",
              "      <td>0</td>\n",
              "      <td>0</td>\n",
              "      <td>0</td>\n",
              "      <td>0</td>\n",
              "      <td>0</td>\n",
              "      <td>0</td>\n",
              "      <td>...</td>\n",
              "      <td>0</td>\n",
              "      <td>0</td>\n",
              "      <td>0</td>\n",
              "      <td>0</td>\n",
              "      <td>0</td>\n",
              "      <td>0</td>\n",
              "      <td>0</td>\n",
              "      <td>0</td>\n",
              "      <td>0</td>\n",
              "      <td>0</td>\n",
              "    </tr>\n",
              "    <tr>\n",
              "      <th>2029</th>\n",
              "      <td>0</td>\n",
              "      <td>1</td>\n",
              "      <td>0</td>\n",
              "      <td>0</td>\n",
              "      <td>0</td>\n",
              "      <td>1</td>\n",
              "      <td>0</td>\n",
              "      <td>0</td>\n",
              "      <td>0</td>\n",
              "      <td>0</td>\n",
              "      <td>...</td>\n",
              "      <td>0</td>\n",
              "      <td>0</td>\n",
              "      <td>1</td>\n",
              "      <td>0</td>\n",
              "      <td>0</td>\n",
              "      <td>1</td>\n",
              "      <td>1</td>\n",
              "      <td>0</td>\n",
              "      <td>0</td>\n",
              "      <td>0</td>\n",
              "    </tr>\n",
              "    <tr>\n",
              "      <th>2030</th>\n",
              "      <td>0</td>\n",
              "      <td>0</td>\n",
              "      <td>0</td>\n",
              "      <td>0</td>\n",
              "      <td>0</td>\n",
              "      <td>0</td>\n",
              "      <td>0</td>\n",
              "      <td>0</td>\n",
              "      <td>0</td>\n",
              "      <td>0</td>\n",
              "      <td>...</td>\n",
              "      <td>0</td>\n",
              "      <td>0</td>\n",
              "      <td>0</td>\n",
              "      <td>0</td>\n",
              "      <td>0</td>\n",
              "      <td>2</td>\n",
              "      <td>0</td>\n",
              "      <td>0</td>\n",
              "      <td>0</td>\n",
              "      <td>0</td>\n",
              "    </tr>\n",
              "    <tr>\n",
              "      <th>2031</th>\n",
              "      <td>0</td>\n",
              "      <td>0</td>\n",
              "      <td>0</td>\n",
              "      <td>0</td>\n",
              "      <td>0</td>\n",
              "      <td>0</td>\n",
              "      <td>1</td>\n",
              "      <td>0</td>\n",
              "      <td>0</td>\n",
              "      <td>0</td>\n",
              "      <td>...</td>\n",
              "      <td>0</td>\n",
              "      <td>0</td>\n",
              "      <td>0</td>\n",
              "      <td>0</td>\n",
              "      <td>0</td>\n",
              "      <td>0</td>\n",
              "      <td>0</td>\n",
              "      <td>1</td>\n",
              "      <td>0</td>\n",
              "      <td>0</td>\n",
              "    </tr>\n",
              "  </tbody>\n",
              "</table>\n",
              "<p>2032 rows × 2000 columns</p>\n",
              "</div>\n",
              "      <button class=\"colab-df-convert\" onclick=\"convertToInteractive('df-e4da6d57-7449-42d9-a4a4-5f17dec31b53')\"\n",
              "              title=\"Convert this dataframe to an interactive table.\"\n",
              "              style=\"display:none;\">\n",
              "        \n",
              "  <svg xmlns=\"http://www.w3.org/2000/svg\" height=\"24px\"viewBox=\"0 0 24 24\"\n",
              "       width=\"24px\">\n",
              "    <path d=\"M0 0h24v24H0V0z\" fill=\"none\"/>\n",
              "    <path d=\"M18.56 5.44l.94 2.06.94-2.06 2.06-.94-2.06-.94-.94-2.06-.94 2.06-2.06.94zm-11 1L8.5 8.5l.94-2.06 2.06-.94-2.06-.94L8.5 2.5l-.94 2.06-2.06.94zm10 10l.94 2.06.94-2.06 2.06-.94-2.06-.94-.94-2.06-.94 2.06-2.06.94z\"/><path d=\"M17.41 7.96l-1.37-1.37c-.4-.4-.92-.59-1.43-.59-.52 0-1.04.2-1.43.59L10.3 9.45l-7.72 7.72c-.78.78-.78 2.05 0 2.83L4 21.41c.39.39.9.59 1.41.59.51 0 1.02-.2 1.41-.59l7.78-7.78 2.81-2.81c.8-.78.8-2.07 0-2.86zM5.41 20L4 18.59l7.72-7.72 1.47 1.35L5.41 20z\"/>\n",
              "  </svg>\n",
              "      </button>\n",
              "      \n",
              "  <style>\n",
              "    .colab-df-container {\n",
              "      display:flex;\n",
              "      flex-wrap:wrap;\n",
              "      gap: 12px;\n",
              "    }\n",
              "\n",
              "    .colab-df-convert {\n",
              "      background-color: #E8F0FE;\n",
              "      border: none;\n",
              "      border-radius: 50%;\n",
              "      cursor: pointer;\n",
              "      display: none;\n",
              "      fill: #1967D2;\n",
              "      height: 32px;\n",
              "      padding: 0 0 0 0;\n",
              "      width: 32px;\n",
              "    }\n",
              "\n",
              "    .colab-df-convert:hover {\n",
              "      background-color: #E2EBFA;\n",
              "      box-shadow: 0px 1px 2px rgba(60, 64, 67, 0.3), 0px 1px 3px 1px rgba(60, 64, 67, 0.15);\n",
              "      fill: #174EA6;\n",
              "    }\n",
              "\n",
              "    [theme=dark] .colab-df-convert {\n",
              "      background-color: #3B4455;\n",
              "      fill: #D2E3FC;\n",
              "    }\n",
              "\n",
              "    [theme=dark] .colab-df-convert:hover {\n",
              "      background-color: #434B5C;\n",
              "      box-shadow: 0px 1px 3px 1px rgba(0, 0, 0, 0.15);\n",
              "      filter: drop-shadow(0px 1px 2px rgba(0, 0, 0, 0.3));\n",
              "      fill: #FFFFFF;\n",
              "    }\n",
              "  </style>\n",
              "\n",
              "      <script>\n",
              "        const buttonEl =\n",
              "          document.querySelector('#df-e4da6d57-7449-42d9-a4a4-5f17dec31b53 button.colab-df-convert');\n",
              "        buttonEl.style.display =\n",
              "          google.colab.kernel.accessAllowed ? 'block' : 'none';\n",
              "\n",
              "        async function convertToInteractive(key) {\n",
              "          const element = document.querySelector('#df-e4da6d57-7449-42d9-a4a4-5f17dec31b53');\n",
              "          const dataTable =\n",
              "            await google.colab.kernel.invokeFunction('convertToInteractive',\n",
              "                                                     [key], {});\n",
              "          if (!dataTable) return;\n",
              "\n",
              "          const docLinkHtml = 'Like what you see? Visit the ' +\n",
              "            '<a target=\"_blank\" href=https://colab.research.google.com/notebooks/data_table.ipynb>data table notebook</a>'\n",
              "            + ' to learn more about interactive tables.';\n",
              "          element.innerHTML = '';\n",
              "          dataTable['output_type'] = 'display_data';\n",
              "          await google.colab.output.renderOutput(dataTable, element);\n",
              "          const docLink = document.createElement('div');\n",
              "          docLink.innerHTML = docLinkHtml;\n",
              "          element.appendChild(docLink);\n",
              "        }\n",
              "      </script>\n",
              "    </div>\n",
              "  </div>\n",
              "  "
            ]
          },
          "metadata": {},
          "execution_count": 17
        }
      ],
      "source": [
        " count_df"
      ]
    },
    {
      "cell_type": "markdown",
      "metadata": {
        "id": "dyZAk6dLo9TS"
      },
      "source": [
        "# Supervised Learning"
      ]
    },
    {
      "cell_type": "code",
      "execution_count": null,
      "metadata": {
        "id": "h27fALJnGLRA",
        "colab": {
          "base_uri": "https://localhost:8080/",
          "height": 206
        },
        "outputId": "2397f82e-9e7a-441f-9725-02d88e75ffc7"
      },
      "outputs": [
        {
          "output_type": "execute_result",
          "data": {
            "text/plain": [
              "   category_number                                               stem\n",
              "0                3  ['thank', 'much', 'chris', 'truli', 'great', '...\n",
              "1                2  ['term', 'invent', 'id', 'tell', 'tale', 'one'...\n",
              "2                4  ['public', 'dewey', 'long', 'ago', 'observ', '...\n",
              "3                2  ['want', 'start', 'say', 'houston', 'problem',...\n",
              "4                2  ['want', 'talk', 'is', 'background', 'idea', '..."
            ],
            "text/html": [
              "\n",
              "  <div id=\"df-2695c87b-26c8-40f9-a449-e61000054881\">\n",
              "    <div class=\"colab-df-container\">\n",
              "      <div>\n",
              "<style scoped>\n",
              "    .dataframe tbody tr th:only-of-type {\n",
              "        vertical-align: middle;\n",
              "    }\n",
              "\n",
              "    .dataframe tbody tr th {\n",
              "        vertical-align: top;\n",
              "    }\n",
              "\n",
              "    .dataframe thead th {\n",
              "        text-align: right;\n",
              "    }\n",
              "</style>\n",
              "<table border=\"1\" class=\"dataframe\">\n",
              "  <thead>\n",
              "    <tr style=\"text-align: right;\">\n",
              "      <th></th>\n",
              "      <th>category_number</th>\n",
              "      <th>stem</th>\n",
              "    </tr>\n",
              "  </thead>\n",
              "  <tbody>\n",
              "    <tr>\n",
              "      <th>0</th>\n",
              "      <td>3</td>\n",
              "      <td>['thank', 'much', 'chris', 'truli', 'great', '...</td>\n",
              "    </tr>\n",
              "    <tr>\n",
              "      <th>1</th>\n",
              "      <td>2</td>\n",
              "      <td>['term', 'invent', 'id', 'tell', 'tale', 'one'...</td>\n",
              "    </tr>\n",
              "    <tr>\n",
              "      <th>2</th>\n",
              "      <td>4</td>\n",
              "      <td>['public', 'dewey', 'long', 'ago', 'observ', '...</td>\n",
              "    </tr>\n",
              "    <tr>\n",
              "      <th>3</th>\n",
              "      <td>2</td>\n",
              "      <td>['want', 'start', 'say', 'houston', 'problem',...</td>\n",
              "    </tr>\n",
              "    <tr>\n",
              "      <th>4</th>\n",
              "      <td>2</td>\n",
              "      <td>['want', 'talk', 'is', 'background', 'idea', '...</td>\n",
              "    </tr>\n",
              "  </tbody>\n",
              "</table>\n",
              "</div>\n",
              "      <button class=\"colab-df-convert\" onclick=\"convertToInteractive('df-2695c87b-26c8-40f9-a449-e61000054881')\"\n",
              "              title=\"Convert this dataframe to an interactive table.\"\n",
              "              style=\"display:none;\">\n",
              "        \n",
              "  <svg xmlns=\"http://www.w3.org/2000/svg\" height=\"24px\"viewBox=\"0 0 24 24\"\n",
              "       width=\"24px\">\n",
              "    <path d=\"M0 0h24v24H0V0z\" fill=\"none\"/>\n",
              "    <path d=\"M18.56 5.44l.94 2.06.94-2.06 2.06-.94-2.06-.94-.94-2.06-.94 2.06-2.06.94zm-11 1L8.5 8.5l.94-2.06 2.06-.94-2.06-.94L8.5 2.5l-.94 2.06-2.06.94zm10 10l.94 2.06.94-2.06 2.06-.94-2.06-.94-.94-2.06-.94 2.06-2.06.94z\"/><path d=\"M17.41 7.96l-1.37-1.37c-.4-.4-.92-.59-1.43-.59-.52 0-1.04.2-1.43.59L10.3 9.45l-7.72 7.72c-.78.78-.78 2.05 0 2.83L4 21.41c.39.39.9.59 1.41.59.51 0 1.02-.2 1.41-.59l7.78-7.78 2.81-2.81c.8-.78.8-2.07 0-2.86zM5.41 20L4 18.59l7.72-7.72 1.47 1.35L5.41 20z\"/>\n",
              "  </svg>\n",
              "      </button>\n",
              "      \n",
              "  <style>\n",
              "    .colab-df-container {\n",
              "      display:flex;\n",
              "      flex-wrap:wrap;\n",
              "      gap: 12px;\n",
              "    }\n",
              "\n",
              "    .colab-df-convert {\n",
              "      background-color: #E8F0FE;\n",
              "      border: none;\n",
              "      border-radius: 50%;\n",
              "      cursor: pointer;\n",
              "      display: none;\n",
              "      fill: #1967D2;\n",
              "      height: 32px;\n",
              "      padding: 0 0 0 0;\n",
              "      width: 32px;\n",
              "    }\n",
              "\n",
              "    .colab-df-convert:hover {\n",
              "      background-color: #E2EBFA;\n",
              "      box-shadow: 0px 1px 2px rgba(60, 64, 67, 0.3), 0px 1px 3px 1px rgba(60, 64, 67, 0.15);\n",
              "      fill: #174EA6;\n",
              "    }\n",
              "\n",
              "    [theme=dark] .colab-df-convert {\n",
              "      background-color: #3B4455;\n",
              "      fill: #D2E3FC;\n",
              "    }\n",
              "\n",
              "    [theme=dark] .colab-df-convert:hover {\n",
              "      background-color: #434B5C;\n",
              "      box-shadow: 0px 1px 3px 1px rgba(0, 0, 0, 0.15);\n",
              "      filter: drop-shadow(0px 1px 2px rgba(0, 0, 0, 0.3));\n",
              "      fill: #FFFFFF;\n",
              "    }\n",
              "  </style>\n",
              "\n",
              "      <script>\n",
              "        const buttonEl =\n",
              "          document.querySelector('#df-2695c87b-26c8-40f9-a449-e61000054881 button.colab-df-convert');\n",
              "        buttonEl.style.display =\n",
              "          google.colab.kernel.accessAllowed ? 'block' : 'none';\n",
              "\n",
              "        async function convertToInteractive(key) {\n",
              "          const element = document.querySelector('#df-2695c87b-26c8-40f9-a449-e61000054881');\n",
              "          const dataTable =\n",
              "            await google.colab.kernel.invokeFunction('convertToInteractive',\n",
              "                                                     [key], {});\n",
              "          if (!dataTable) return;\n",
              "\n",
              "          const docLinkHtml = 'Like what you see? Visit the ' +\n",
              "            '<a target=\"_blank\" href=https://colab.research.google.com/notebooks/data_table.ipynb>data table notebook</a>'\n",
              "            + ' to learn more about interactive tables.';\n",
              "          element.innerHTML = '';\n",
              "          dataTable['output_type'] = 'display_data';\n",
              "          await google.colab.output.renderOutput(dataTable, element);\n",
              "          const docLink = document.createElement('div');\n",
              "          docLink.innerHTML = docLinkHtml;\n",
              "          element.appendChild(docLink);\n",
              "        }\n",
              "      </script>\n",
              "    </div>\n",
              "  </div>\n",
              "  "
            ]
          },
          "metadata": {},
          "execution_count": 19
        }
      ],
      "source": [
        "# created a new dataframe that's just the stemmed transcript and category number\n",
        "df_s = data['category_number'].to_frame()\n",
        "extracted_col = transcript['stem']\n",
        "df_s = df_s.join(extracted_col)\n",
        "df_s.head(5)"
      ]
    },
    {
      "cell_type": "markdown",
      "metadata": {
        "id": "8IlSwE1gosyP"
      },
      "source": [
        "#### Logistic Regression"
      ]
    },
    {
      "cell_type": "markdown",
      "metadata": {
        "id": "ndfN2XB7Jp2c"
      },
      "source": [
        "###### Experiment 1: Logistic Regression with TFIDF"
      ]
    },
    {
      "cell_type": "code",
      "execution_count": null,
      "metadata": {
        "colab": {
          "base_uri": "https://localhost:8080/"
        },
        "id": "pCGeM95VxhJ5",
        "outputId": "36175f6d-b86f-45e5-f347-ece75eb7e142"
      },
      "outputs": [
        {
          "output_type": "execute_result",
          "data": {
            "text/plain": [
              "0.7460629921259843"
            ]
          },
          "metadata": {},
          "execution_count": 20
        }
      ],
      "source": [
        "# For logistic regression model training\n",
        "# X is a dataframe with only features, which in this case comes from the TFIDF\n",
        "X = tfidf_df\n",
        "\n",
        "# Y is the categories, which is the target\n",
        "Y = data['category_number']\n",
        "Y = np.ravel(Y)\n",
        "log_model = LogisticRegression()\n",
        "log_model.fit(X,Y)\n",
        "\n",
        "# this gets the accuracy score of training model\n",
        "log_model.score(X,Y)"
      ]
    },
    {
      "cell_type": "code",
      "execution_count": null,
      "metadata": {
        "colab": {
          "base_uri": "https://localhost:8080/",
          "height": 424
        },
        "id": "6scEyKj5yuy3",
        "outputId": "4186bf9e-1226-4b6f-c671-6fc5ebbe1dc4"
      },
      "outputs": [
        {
          "output_type": "execute_result",
          "data": {
            "text/plain": [
              "             0                                                  1\n",
              "0         abil  [0.47847081441755634, -0.36961317863365356, 0....\n",
              "1          abl  [0.5546472506897743, -0.2465262699781882, 0.37...\n",
              "2      absolut  [0.1673514074334374, -0.22025224043724342, 0.0...\n",
              "3     abstract  [0.1156565560334192, 0.3302870342697425, -0.08...\n",
              "4         abus  [0.12356118166669344, -0.3888489390663923, -0....\n",
              "...        ...                                                ...\n",
              "1995     young  [-0.6762829392811585, -0.32435893154772555, -0...\n",
              "1996   younger  [0.0106136487642137, -0.2095171312509814, -0.0...\n",
              "1997      zero  [-0.23163846672139873, -0.05568936916544539, 0...\n",
              "1998      zone  [-0.26241791860504654, -0.3454228937860331, -0...\n",
              "1999      zoom  [0.05388632291670624, -0.19259820946468342, 0....\n",
              "\n",
              "[2000 rows x 2 columns]"
            ],
            "text/html": [
              "\n",
              "  <div id=\"df-ae005f93-dc88-4ff2-b75e-ec4b1affc315\">\n",
              "    <div class=\"colab-df-container\">\n",
              "      <div>\n",
              "<style scoped>\n",
              "    .dataframe tbody tr th:only-of-type {\n",
              "        vertical-align: middle;\n",
              "    }\n",
              "\n",
              "    .dataframe tbody tr th {\n",
              "        vertical-align: top;\n",
              "    }\n",
              "\n",
              "    .dataframe thead th {\n",
              "        text-align: right;\n",
              "    }\n",
              "</style>\n",
              "<table border=\"1\" class=\"dataframe\">\n",
              "  <thead>\n",
              "    <tr style=\"text-align: right;\">\n",
              "      <th></th>\n",
              "      <th>0</th>\n",
              "      <th>1</th>\n",
              "    </tr>\n",
              "  </thead>\n",
              "  <tbody>\n",
              "    <tr>\n",
              "      <th>0</th>\n",
              "      <td>abil</td>\n",
              "      <td>[0.47847081441755634, -0.36961317863365356, 0....</td>\n",
              "    </tr>\n",
              "    <tr>\n",
              "      <th>1</th>\n",
              "      <td>abl</td>\n",
              "      <td>[0.5546472506897743, -0.2465262699781882, 0.37...</td>\n",
              "    </tr>\n",
              "    <tr>\n",
              "      <th>2</th>\n",
              "      <td>absolut</td>\n",
              "      <td>[0.1673514074334374, -0.22025224043724342, 0.0...</td>\n",
              "    </tr>\n",
              "    <tr>\n",
              "      <th>3</th>\n",
              "      <td>abstract</td>\n",
              "      <td>[0.1156565560334192, 0.3302870342697425, -0.08...</td>\n",
              "    </tr>\n",
              "    <tr>\n",
              "      <th>4</th>\n",
              "      <td>abus</td>\n",
              "      <td>[0.12356118166669344, -0.3888489390663923, -0....</td>\n",
              "    </tr>\n",
              "    <tr>\n",
              "      <th>...</th>\n",
              "      <td>...</td>\n",
              "      <td>...</td>\n",
              "    </tr>\n",
              "    <tr>\n",
              "      <th>1995</th>\n",
              "      <td>young</td>\n",
              "      <td>[-0.6762829392811585, -0.32435893154772555, -0...</td>\n",
              "    </tr>\n",
              "    <tr>\n",
              "      <th>1996</th>\n",
              "      <td>younger</td>\n",
              "      <td>[0.0106136487642137, -0.2095171312509814, -0.0...</td>\n",
              "    </tr>\n",
              "    <tr>\n",
              "      <th>1997</th>\n",
              "      <td>zero</td>\n",
              "      <td>[-0.23163846672139873, -0.05568936916544539, 0...</td>\n",
              "    </tr>\n",
              "    <tr>\n",
              "      <th>1998</th>\n",
              "      <td>zone</td>\n",
              "      <td>[-0.26241791860504654, -0.3454228937860331, -0...</td>\n",
              "    </tr>\n",
              "    <tr>\n",
              "      <th>1999</th>\n",
              "      <td>zoom</td>\n",
              "      <td>[0.05388632291670624, -0.19259820946468342, 0....</td>\n",
              "    </tr>\n",
              "  </tbody>\n",
              "</table>\n",
              "<p>2000 rows × 2 columns</p>\n",
              "</div>\n",
              "      <button class=\"colab-df-convert\" onclick=\"convertToInteractive('df-ae005f93-dc88-4ff2-b75e-ec4b1affc315')\"\n",
              "              title=\"Convert this dataframe to an interactive table.\"\n",
              "              style=\"display:none;\">\n",
              "        \n",
              "  <svg xmlns=\"http://www.w3.org/2000/svg\" height=\"24px\"viewBox=\"0 0 24 24\"\n",
              "       width=\"24px\">\n",
              "    <path d=\"M0 0h24v24H0V0z\" fill=\"none\"/>\n",
              "    <path d=\"M18.56 5.44l.94 2.06.94-2.06 2.06-.94-2.06-.94-.94-2.06-.94 2.06-2.06.94zm-11 1L8.5 8.5l.94-2.06 2.06-.94-2.06-.94L8.5 2.5l-.94 2.06-2.06.94zm10 10l.94 2.06.94-2.06 2.06-.94-2.06-.94-.94-2.06-.94 2.06-2.06.94z\"/><path d=\"M17.41 7.96l-1.37-1.37c-.4-.4-.92-.59-1.43-.59-.52 0-1.04.2-1.43.59L10.3 9.45l-7.72 7.72c-.78.78-.78 2.05 0 2.83L4 21.41c.39.39.9.59 1.41.59.51 0 1.02-.2 1.41-.59l7.78-7.78 2.81-2.81c.8-.78.8-2.07 0-2.86zM5.41 20L4 18.59l7.72-7.72 1.47 1.35L5.41 20z\"/>\n",
              "  </svg>\n",
              "      </button>\n",
              "      \n",
              "  <style>\n",
              "    .colab-df-container {\n",
              "      display:flex;\n",
              "      flex-wrap:wrap;\n",
              "      gap: 12px;\n",
              "    }\n",
              "\n",
              "    .colab-df-convert {\n",
              "      background-color: #E8F0FE;\n",
              "      border: none;\n",
              "      border-radius: 50%;\n",
              "      cursor: pointer;\n",
              "      display: none;\n",
              "      fill: #1967D2;\n",
              "      height: 32px;\n",
              "      padding: 0 0 0 0;\n",
              "      width: 32px;\n",
              "    }\n",
              "\n",
              "    .colab-df-convert:hover {\n",
              "      background-color: #E2EBFA;\n",
              "      box-shadow: 0px 1px 2px rgba(60, 64, 67, 0.3), 0px 1px 3px 1px rgba(60, 64, 67, 0.15);\n",
              "      fill: #174EA6;\n",
              "    }\n",
              "\n",
              "    [theme=dark] .colab-df-convert {\n",
              "      background-color: #3B4455;\n",
              "      fill: #D2E3FC;\n",
              "    }\n",
              "\n",
              "    [theme=dark] .colab-df-convert:hover {\n",
              "      background-color: #434B5C;\n",
              "      box-shadow: 0px 1px 3px 1px rgba(0, 0, 0, 0.15);\n",
              "      filter: drop-shadow(0px 1px 2px rgba(0, 0, 0, 0.3));\n",
              "      fill: #FFFFFF;\n",
              "    }\n",
              "  </style>\n",
              "\n",
              "      <script>\n",
              "        const buttonEl =\n",
              "          document.querySelector('#df-ae005f93-dc88-4ff2-b75e-ec4b1affc315 button.colab-df-convert');\n",
              "        buttonEl.style.display =\n",
              "          google.colab.kernel.accessAllowed ? 'block' : 'none';\n",
              "\n",
              "        async function convertToInteractive(key) {\n",
              "          const element = document.querySelector('#df-ae005f93-dc88-4ff2-b75e-ec4b1affc315');\n",
              "          const dataTable =\n",
              "            await google.colab.kernel.invokeFunction('convertToInteractive',\n",
              "                                                     [key], {});\n",
              "          if (!dataTable) return;\n",
              "\n",
              "          const docLinkHtml = 'Like what you see? Visit the ' +\n",
              "            '<a target=\"_blank\" href=https://colab.research.google.com/notebooks/data_table.ipynb>data table notebook</a>'\n",
              "            + ' to learn more about interactive tables.';\n",
              "          element.innerHTML = '';\n",
              "          dataTable['output_type'] = 'display_data';\n",
              "          await google.colab.output.renderOutput(dataTable, element);\n",
              "          const docLink = document.createElement('div');\n",
              "          docLink.innerHTML = docLinkHtml;\n",
              "          element.appendChild(docLink);\n",
              "        }\n",
              "      </script>\n",
              "    </div>\n",
              "  </div>\n",
              "  "
            ]
          },
          "metadata": {},
          "execution_count": 21
        }
      ],
      "source": [
        "# this gets the coefficients of the logistic training model\n",
        "coeff_df1 = pd.DataFrame(zip(X.columns,np.transpose(log_model.coef_)))\n",
        "coeff_df1"
      ]
    },
    {
      "cell_type": "code",
      "execution_count": null,
      "metadata": {
        "colab": {
          "base_uri": "https://localhost:8080/"
        },
        "id": "wTGcEaudFuTP",
        "outputId": "a05ad14d-653d-4daf-dcef-6bff6afa942e"
      },
      "outputs": [
        {
          "output_type": "execute_result",
          "data": {
            "text/plain": [
              "LogisticRegression()"
            ]
          },
          "metadata": {},
          "execution_count": 22
        }
      ],
      "source": [
        "# This part is to create a new logistic regression model by splitting training and testing sets\n",
        "# Split the data\n",
        "X_train, X_test, Y_train, Y_test = train_test_split(X,Y, test_size = 0.1, random_state = 0)\n",
        "\n",
        "# Make a new logistic regression model\n",
        "log_model2 = LogisticRegression()\n",
        "\n",
        "# Fit the new logistic regression model\n",
        "log_model2.fit(X_train,Y_train)"
      ]
    },
    {
      "cell_type": "code",
      "execution_count": null,
      "metadata": {
        "colab": {
          "base_uri": "https://localhost:8080/"
        },
        "id": "vdDWEpeoF1Nl",
        "outputId": "acfc4df1-1f63-4d05-98f6-43d809a6838f"
      },
      "outputs": [
        {
          "output_type": "execute_result",
          "data": {
            "text/plain": [
              "0.6519607843137255"
            ]
          },
          "metadata": {},
          "execution_count": 23
        }
      ],
      "source": [
        "# This part is to use the testing data to see what the model predicts\n",
        "\n",
        "# class_predict is the predicted values by the model\n",
        "class_predict = log_model2.predict(X_test)\n",
        "\n",
        "\n",
        "# Y_test is the actual data, class_predict is the predicted values by the model\n",
        "metrics.accuracy_score(Y_test,class_predict)"
      ]
    },
    {
      "cell_type": "code",
      "execution_count": null,
      "metadata": {
        "colab": {
          "base_uri": "https://localhost:8080/",
          "height": 424
        },
        "id": "IxinPdr8JawR",
        "outputId": "c5b7aa23-1dbc-4c41-f40c-c33fc9639079"
      },
      "outputs": [
        {
          "output_type": "execute_result",
          "data": {
            "text/plain": [
              "             0                                                  1\n",
              "0         abil  [0.48016909028472643, -0.4079629191433649, 0.1...\n",
              "1          abl  [0.5145408612424608, -0.28925214076920225, 0.3...\n",
              "2      absolut  [0.1371822786361342, -0.16271277858159464, 0.0...\n",
              "3     abstract  [0.06437521483825241, 0.3119755379581091, -0.0...\n",
              "4         abus  [0.08324514132977337, -0.3659179128276541, -0....\n",
              "...        ...                                                ...\n",
              "1995     young  [-0.6581022139034516, -0.27378656812015284, -0...\n",
              "1996   younger  [0.03418232794601736, -0.20871571769684577, -0...\n",
              "1997      zero  [-0.298235227940038, -0.04616823786678828, 0.3...\n",
              "1998      zone  [-0.22461297406652728, -0.3408855700060675, -0...\n",
              "1999      zoom  [0.08649236411997635, -0.09159936453597929, 0....\n",
              "\n",
              "[2000 rows x 2 columns]"
            ],
            "text/html": [
              "\n",
              "  <div id=\"df-e123cb33-52a9-4238-a53c-3a222cf319d6\">\n",
              "    <div class=\"colab-df-container\">\n",
              "      <div>\n",
              "<style scoped>\n",
              "    .dataframe tbody tr th:only-of-type {\n",
              "        vertical-align: middle;\n",
              "    }\n",
              "\n",
              "    .dataframe tbody tr th {\n",
              "        vertical-align: top;\n",
              "    }\n",
              "\n",
              "    .dataframe thead th {\n",
              "        text-align: right;\n",
              "    }\n",
              "</style>\n",
              "<table border=\"1\" class=\"dataframe\">\n",
              "  <thead>\n",
              "    <tr style=\"text-align: right;\">\n",
              "      <th></th>\n",
              "      <th>0</th>\n",
              "      <th>1</th>\n",
              "    </tr>\n",
              "  </thead>\n",
              "  <tbody>\n",
              "    <tr>\n",
              "      <th>0</th>\n",
              "      <td>abil</td>\n",
              "      <td>[0.48016909028472643, -0.4079629191433649, 0.1...</td>\n",
              "    </tr>\n",
              "    <tr>\n",
              "      <th>1</th>\n",
              "      <td>abl</td>\n",
              "      <td>[0.5145408612424608, -0.28925214076920225, 0.3...</td>\n",
              "    </tr>\n",
              "    <tr>\n",
              "      <th>2</th>\n",
              "      <td>absolut</td>\n",
              "      <td>[0.1371822786361342, -0.16271277858159464, 0.0...</td>\n",
              "    </tr>\n",
              "    <tr>\n",
              "      <th>3</th>\n",
              "      <td>abstract</td>\n",
              "      <td>[0.06437521483825241, 0.3119755379581091, -0.0...</td>\n",
              "    </tr>\n",
              "    <tr>\n",
              "      <th>4</th>\n",
              "      <td>abus</td>\n",
              "      <td>[0.08324514132977337, -0.3659179128276541, -0....</td>\n",
              "    </tr>\n",
              "    <tr>\n",
              "      <th>...</th>\n",
              "      <td>...</td>\n",
              "      <td>...</td>\n",
              "    </tr>\n",
              "    <tr>\n",
              "      <th>1995</th>\n",
              "      <td>young</td>\n",
              "      <td>[-0.6581022139034516, -0.27378656812015284, -0...</td>\n",
              "    </tr>\n",
              "    <tr>\n",
              "      <th>1996</th>\n",
              "      <td>younger</td>\n",
              "      <td>[0.03418232794601736, -0.20871571769684577, -0...</td>\n",
              "    </tr>\n",
              "    <tr>\n",
              "      <th>1997</th>\n",
              "      <td>zero</td>\n",
              "      <td>[-0.298235227940038, -0.04616823786678828, 0.3...</td>\n",
              "    </tr>\n",
              "    <tr>\n",
              "      <th>1998</th>\n",
              "      <td>zone</td>\n",
              "      <td>[-0.22461297406652728, -0.3408855700060675, -0...</td>\n",
              "    </tr>\n",
              "    <tr>\n",
              "      <th>1999</th>\n",
              "      <td>zoom</td>\n",
              "      <td>[0.08649236411997635, -0.09159936453597929, 0....</td>\n",
              "    </tr>\n",
              "  </tbody>\n",
              "</table>\n",
              "<p>2000 rows × 2 columns</p>\n",
              "</div>\n",
              "      <button class=\"colab-df-convert\" onclick=\"convertToInteractive('df-e123cb33-52a9-4238-a53c-3a222cf319d6')\"\n",
              "              title=\"Convert this dataframe to an interactive table.\"\n",
              "              style=\"display:none;\">\n",
              "        \n",
              "  <svg xmlns=\"http://www.w3.org/2000/svg\" height=\"24px\"viewBox=\"0 0 24 24\"\n",
              "       width=\"24px\">\n",
              "    <path d=\"M0 0h24v24H0V0z\" fill=\"none\"/>\n",
              "    <path d=\"M18.56 5.44l.94 2.06.94-2.06 2.06-.94-2.06-.94-.94-2.06-.94 2.06-2.06.94zm-11 1L8.5 8.5l.94-2.06 2.06-.94-2.06-.94L8.5 2.5l-.94 2.06-2.06.94zm10 10l.94 2.06.94-2.06 2.06-.94-2.06-.94-.94-2.06-.94 2.06-2.06.94z\"/><path d=\"M17.41 7.96l-1.37-1.37c-.4-.4-.92-.59-1.43-.59-.52 0-1.04.2-1.43.59L10.3 9.45l-7.72 7.72c-.78.78-.78 2.05 0 2.83L4 21.41c.39.39.9.59 1.41.59.51 0 1.02-.2 1.41-.59l7.78-7.78 2.81-2.81c.8-.78.8-2.07 0-2.86zM5.41 20L4 18.59l7.72-7.72 1.47 1.35L5.41 20z\"/>\n",
              "  </svg>\n",
              "      </button>\n",
              "      \n",
              "  <style>\n",
              "    .colab-df-container {\n",
              "      display:flex;\n",
              "      flex-wrap:wrap;\n",
              "      gap: 12px;\n",
              "    }\n",
              "\n",
              "    .colab-df-convert {\n",
              "      background-color: #E8F0FE;\n",
              "      border: none;\n",
              "      border-radius: 50%;\n",
              "      cursor: pointer;\n",
              "      display: none;\n",
              "      fill: #1967D2;\n",
              "      height: 32px;\n",
              "      padding: 0 0 0 0;\n",
              "      width: 32px;\n",
              "    }\n",
              "\n",
              "    .colab-df-convert:hover {\n",
              "      background-color: #E2EBFA;\n",
              "      box-shadow: 0px 1px 2px rgba(60, 64, 67, 0.3), 0px 1px 3px 1px rgba(60, 64, 67, 0.15);\n",
              "      fill: #174EA6;\n",
              "    }\n",
              "\n",
              "    [theme=dark] .colab-df-convert {\n",
              "      background-color: #3B4455;\n",
              "      fill: #D2E3FC;\n",
              "    }\n",
              "\n",
              "    [theme=dark] .colab-df-convert:hover {\n",
              "      background-color: #434B5C;\n",
              "      box-shadow: 0px 1px 3px 1px rgba(0, 0, 0, 0.15);\n",
              "      filter: drop-shadow(0px 1px 2px rgba(0, 0, 0, 0.3));\n",
              "      fill: #FFFFFF;\n",
              "    }\n",
              "  </style>\n",
              "\n",
              "      <script>\n",
              "        const buttonEl =\n",
              "          document.querySelector('#df-e123cb33-52a9-4238-a53c-3a222cf319d6 button.colab-df-convert');\n",
              "        buttonEl.style.display =\n",
              "          google.colab.kernel.accessAllowed ? 'block' : 'none';\n",
              "\n",
              "        async function convertToInteractive(key) {\n",
              "          const element = document.querySelector('#df-e123cb33-52a9-4238-a53c-3a222cf319d6');\n",
              "          const dataTable =\n",
              "            await google.colab.kernel.invokeFunction('convertToInteractive',\n",
              "                                                     [key], {});\n",
              "          if (!dataTable) return;\n",
              "\n",
              "          const docLinkHtml = 'Like what you see? Visit the ' +\n",
              "            '<a target=\"_blank\" href=https://colab.research.google.com/notebooks/data_table.ipynb>data table notebook</a>'\n",
              "            + ' to learn more about interactive tables.';\n",
              "          element.innerHTML = '';\n",
              "          dataTable['output_type'] = 'display_data';\n",
              "          await google.colab.output.renderOutput(dataTable, element);\n",
              "          const docLink = document.createElement('div');\n",
              "          docLink.innerHTML = docLinkHtml;\n",
              "          element.appendChild(docLink);\n",
              "        }\n",
              "      </script>\n",
              "    </div>\n",
              "  </div>\n",
              "  "
            ]
          },
          "metadata": {},
          "execution_count": 24
        }
      ],
      "source": [
        "# this gets the coefficients of the new logistic regression model\n",
        "coeff_df2 = pd.DataFrame(zip(X.columns,np.transpose(log_model2.coef_)))\n",
        "coeff_df2"
      ]
    },
    {
      "cell_type": "code",
      "execution_count": null,
      "metadata": {
        "colab": {
          "base_uri": "https://localhost:8080/"
        },
        "id": "wqRdlW1uQFkb",
        "outputId": "b39aba3b-e814-41e3-bec8-b0f4345fc554"
      },
      "outputs": [
        {
          "output_type": "stream",
          "name": "stdout",
          "text": [
            "[[51  3  2  0  0  0  0  0  0  0  0  0  0  0  0  0  0  0  0]\n",
            " [ 7 38  3  1  0  0  0  0  0  0  0  0  0  0  0  0  0  0  0]\n",
            " [ 4  5 23  1  0  0  0  0  0  0  0  0  0  0  0  0  0  0  0]\n",
            " [ 2  0  1  7  0  0  0  0  0  0  0  0  0  0  0  0  0  0  0]\n",
            " [ 1  1  0  0  8  1  0  0  0  0  0  0  0  0  0  0  0  0  0]\n",
            " [ 2  2  2  0  2  5  0  0  0  0  0  0  0  0  0  0  0  0  0]\n",
            " [ 2  0  0  0  1  0  0  0  0  0  0  0  0  0  0  0  0  0  0]\n",
            " [ 1  1  1  0  2  0  0  0  0  0  0  0  0  0  0  0  0  0  0]\n",
            " [ 1  0  2  0  0  0  0  0  0  0  0  0  0  0  0  0  0  0  0]\n",
            " [ 2  1  0  0  0  0  0  0  0  0  0  0  0  0  0  0  0  0  0]\n",
            " [ 0  0  1  0  0  0  0  0  0  0  1  0  0  0  0  0  0  0  0]\n",
            " [ 1  1  3  0  0  0  0  0  0  0  0  0  0  0  0  0  0  0  0]\n",
            " [ 1  0  0  1  0  0  0  0  0  0  0  0  0  0  0  0  0  0  0]\n",
            " [ 0  2  0  0  0  0  0  0  0  0  0  0  0  0  0  0  0  0  0]\n",
            " [ 0  1  0  0  1  0  0  0  0  0  0  0  0  0  0  0  0  0  0]\n",
            " [ 0  1  0  0  0  0  0  1  0  0  0  0  0  0  0  0  0  0  0]\n",
            " [ 0  0  0  1  0  0  0  0  0  0  0  0  0  0  0  0  0  0  0]\n",
            " [ 1  0  0  0  0  0  0  0  0  0  0  0  0  0  0  0  0  0  0]\n",
            " [ 0  1  0  0  0  0  0  0  0  0  0  0  0  0  0  0  0  0  0]]\n",
            "              precision    recall  f1-score   support\n",
            "\n",
            "           0       0.67      0.91      0.77        56\n",
            "           1       0.67      0.78      0.72        49\n",
            "           2       0.61      0.70      0.65        33\n",
            "           3       0.64      0.70      0.67        10\n",
            "           4       0.57      0.73      0.64        11\n",
            "           5       0.83      0.38      0.53        13\n",
            "           6       0.00      0.00      0.00         3\n",
            "           7       0.00      0.00      0.00         5\n",
            "           8       0.00      0.00      0.00         3\n",
            "           9       0.00      0.00      0.00         3\n",
            "          10       1.00      0.50      0.67         2\n",
            "          11       0.00      0.00      0.00         5\n",
            "          12       0.00      0.00      0.00         2\n",
            "          13       0.00      0.00      0.00         2\n",
            "          14       0.00      0.00      0.00         2\n",
            "          15       0.00      0.00      0.00         2\n",
            "          17       0.00      0.00      0.00         1\n",
            "          18       0.00      0.00      0.00         1\n",
            "          20       0.00      0.00      0.00         1\n",
            "\n",
            "    accuracy                           0.65       204\n",
            "   macro avg       0.26      0.25      0.24       204\n",
            "weighted avg       0.57      0.65      0.60       204\n",
            "\n",
            "0.6519607843137255\n"
          ]
        },
        {
          "output_type": "stream",
          "name": "stderr",
          "text": [
            "/usr/local/lib/python3.7/dist-packages/sklearn/metrics/_classification.py:1318: UndefinedMetricWarning: Precision and F-score are ill-defined and being set to 0.0 in labels with no predicted samples. Use `zero_division` parameter to control this behavior.\n",
            "  _warn_prf(average, modifier, msg_start, len(result))\n",
            "/usr/local/lib/python3.7/dist-packages/sklearn/metrics/_classification.py:1318: UndefinedMetricWarning: Precision and F-score are ill-defined and being set to 0.0 in labels with no predicted samples. Use `zero_division` parameter to control this behavior.\n",
            "  _warn_prf(average, modifier, msg_start, len(result))\n",
            "/usr/local/lib/python3.7/dist-packages/sklearn/metrics/_classification.py:1318: UndefinedMetricWarning: Precision and F-score are ill-defined and being set to 0.0 in labels with no predicted samples. Use `zero_division` parameter to control this behavior.\n",
            "  _warn_prf(average, modifier, msg_start, len(result))\n"
          ]
        }
      ],
      "source": [
        "# This part evaluates the model with confusion matrix and accuracy score\n",
        "print(confusion_matrix(Y_test,class_predict))\n",
        "print(classification_report(Y_test,class_predict))\n",
        "print(accuracy_score(Y_test, class_predict))"
      ]
    },
    {
      "cell_type": "code",
      "source": [
        "# Code adapted from: https://towardsdatascience.com/text-classification-using-naive-bayes-theory-a-working-example-2ef4b7eb7d5a#:~:text=1.-,Introduction,is%20independent%20of%20each%20other.\n",
        "# This part plots the confusion matrix on a heat map\n",
        "import seaborn as sns\n",
        "import matplotlib.pyplot as plt\n",
        "mat = confusion_matrix(Y_test,class_predict)\n",
        "\n",
        "# Create heat map with seaborn\n",
        "plt.figure(figsize=(8, 8))\n",
        "sns.heatmap(mat.T, square = True, annot=True, fmt = \"d\")\n",
        "plt.xlabel(\"True labels\", fontdict={\"fontsize\": 16})\n",
        "plt.ylabel(\"Predicted label\", fontdict={\"fontsize\": 16})\n",
        "\n",
        "# Show the map\n",
        "plt.show()\n",
        "print(\"The accuracy is {}\".format(accuracy_score(Y_test,class_predict)))"
      ],
      "metadata": {
        "colab": {
          "base_uri": "https://localhost:8080/",
          "height": 490
        },
        "id": "TNYtar61os0j",
        "outputId": "035b258f-fcd7-4332-85af-4606ee56de7c"
      },
      "execution_count": null,
      "outputs": [
        {
          "output_type": "display_data",
          "data": {
            "text/plain": [
              "<Figure size 576x576 with 2 Axes>"
            ],
            "image/png": "[encoded data removed]"
          },
          "metadata": {
            "needs_background": "light"
          }
        },
        {
          "output_type": "stream",
          "name": "stdout",
          "text": [
            "The accuracy is 0.6519607843137255\n"
          ]
        }
      ]
    },
    {
      "cell_type": "markdown",
      "metadata": {
        "id": "BNZALa9VJx7B"
      },
      "source": [
        "###### Experiment 2: Logistic Regression with Count Vectorizer"
      ]
    },
    {
      "cell_type": "code",
      "execution_count": null,
      "metadata": {
        "colab": {
          "base_uri": "https://localhost:8080/"
        },
        "id": "fdF_iTVgJlcz",
        "outputId": "ae276e81-d274-4058-e966-ca3b9963db34"
      },
      "outputs": [
        {
          "output_type": "stream",
          "name": "stderr",
          "text": [
            "/usr/local/lib/python3.7/dist-packages/sklearn/linear_model/_logistic.py:818: ConvergenceWarning: lbfgs failed to converge (status=1):\n",
            "STOP: TOTAL NO. of ITERATIONS REACHED LIMIT.\n",
            "\n",
            "Increase the number of iterations (max_iter) or scale the data as shown in:\n",
            "    https://scikit-learn.org/stable/modules/preprocessing.html\n",
            "Please also refer to the documentation for alternative solver options:\n",
            "    https://scikit-learn.org/stable/modules/linear_model.html#logistic-regression\n",
            "  extra_warning_msg=_LOGISTIC_SOLVER_CONVERGENCE_MSG,\n"
          ]
        },
        {
          "output_type": "execute_result",
          "data": {
            "text/plain": [
              "1.0"
            ]
          },
          "metadata": {},
          "execution_count": 28
        }
      ],
      "source": [
        "# For logistic regression model training\n",
        "# Xc is a dataframe with only features, which in this case comes from the count vectorizer\n",
        "Xc = count_df\n",
        "\n",
        "# Y is the categories, which is the target\n",
        "Yc = data['category_number']\n",
        "Yc = np.ravel(Yc)\n",
        "log_model_c = LogisticRegression(max_iter=1000)\n",
        "log_model_c.fit(Xc,Yc)\n",
        "\n",
        "# this gets the accuracy score of training model\n",
        "log_model_c.score(Xc,Yc)"
      ]
    },
    {
      "cell_type": "code",
      "execution_count": null,
      "metadata": {
        "colab": {
          "base_uri": "https://localhost:8080/"
        },
        "id": "Aer9DXWSKkxh",
        "outputId": "7787b17f-6477-4a0a-9aae-cd87ee2a061b"
      },
      "outputs": [
        {
          "output_type": "stream",
          "name": "stderr",
          "text": [
            "/usr/local/lib/python3.7/dist-packages/sklearn/linear_model/_logistic.py:818: ConvergenceWarning: lbfgs failed to converge (status=1):\n",
            "STOP: TOTAL NO. of ITERATIONS REACHED LIMIT.\n",
            "\n",
            "Increase the number of iterations (max_iter) or scale the data as shown in:\n",
            "    https://scikit-learn.org/stable/modules/preprocessing.html\n",
            "Please also refer to the documentation for alternative solver options:\n",
            "    https://scikit-learn.org/stable/modules/linear_model.html#logistic-regression\n",
            "  extra_warning_msg=_LOGISTIC_SOLVER_CONVERGENCE_MSG,\n"
          ]
        },
        {
          "output_type": "execute_result",
          "data": {
            "text/plain": [
              "LogisticRegression(max_iter=1000)"
            ]
          },
          "metadata": {},
          "execution_count": 29
        }
      ],
      "source": [
        "# This part is to create a new logistic regression model by splitting training and testing sets\n",
        "# Split the data\n",
        "X_train_c, X_test_c, Y_train_c, Y_test_c = train_test_split(Xc,Yc, test_size = 0.1, random_state = 0)\n",
        "\n",
        "# Make a new logistic regression model\n",
        "log_model_c2 = LogisticRegression(max_iter = 1000)\n",
        "\n",
        "# Fit the new logistic regression model\n",
        "log_model_c2.fit(X_train_c,Y_train_c)"
      ]
    },
    {
      "cell_type": "code",
      "execution_count": null,
      "metadata": {
        "colab": {
          "base_uri": "https://localhost:8080/"
        },
        "id": "PFMGCGQ_K54D",
        "outputId": "bf05a0e7-b146-4ecb-860b-3873a8de6204"
      },
      "outputs": [
        {
          "output_type": "execute_result",
          "data": {
            "text/plain": [
              "0.5294117647058824"
            ]
          },
          "metadata": {},
          "execution_count": 30
        }
      ],
      "source": [
        "# This part is to use the testing data to see what the model predicts\n",
        "\n",
        "# class_predict is the predicted values by the model\n",
        "class_predict_c = log_model2.predict(X_test_c)\n",
        "\n",
        "\n",
        "# Y_test_c is the actual data, class_predict_c is the predicted values by the model\n",
        "metrics.accuracy_score(Y_test_c,class_predict_c)"
      ]
    },
    {
      "cell_type": "code",
      "execution_count": null,
      "metadata": {
        "colab": {
          "base_uri": "https://localhost:8080/",
          "height": 424
        },
        "id": "s9863sNpLLEU",
        "outputId": "841c947a-fc51-41d7-9a3f-49b35115fb29"
      },
      "outputs": [
        {
          "output_type": "execute_result",
          "data": {
            "text/plain": [
              "             0                                                  1\n",
              "0         abil  [0.10152296549989138, -0.1736971391806767, 0.0...\n",
              "1          abl  [0.14817612330209817, -0.06376834341062015, 0....\n",
              "2      absolut  [-0.0006693251156692111, -0.057222722360172375...\n",
              "3     abstract  [-0.003450586237534945, 0.07755138074890788, -...\n",
              "4         abus  [0.0713249201857218, -0.071614537614163, -0.01...\n",
              "...        ...                                                ...\n",
              "1995     young  [-0.08841036995055403, -0.02058322394799285, -...\n",
              "1996   younger  [0.015937937819990033, -0.026617566926839694, ...\n",
              "1997      zero  [-0.09114146487310743, 0.02759163763564072, 0....\n",
              "1998      zone  [-0.02527025568042392, -0.09459131807155105, -...\n",
              "1999      zoom  [0.03254051640095075, 0.0006817888572760169, 0...\n",
              "\n",
              "[2000 rows x 2 columns]"
            ],
            "text/html": [
              "\n",
              "  <div id=\"df-33929a18-6734-4187-818b-fd3f4527c512\">\n",
              "    <div class=\"colab-df-container\">\n",
              "      <div>\n",
              "<style scoped>\n",
              "    .dataframe tbody tr th:only-of-type {\n",
              "        vertical-align: middle;\n",
              "    }\n",
              "\n",
              "    .dataframe tbody tr th {\n",
              "        vertical-align: top;\n",
              "    }\n",
              "\n",
              "    .dataframe thead th {\n",
              "        text-align: right;\n",
              "    }\n",
              "</style>\n",
              "<table border=\"1\" class=\"dataframe\">\n",
              "  <thead>\n",
              "    <tr style=\"text-align: right;\">\n",
              "      <th></th>\n",
              "      <th>0</th>\n",
              "      <th>1</th>\n",
              "    </tr>\n",
              "  </thead>\n",
              "  <tbody>\n",
              "    <tr>\n",
              "      <th>0</th>\n",
              "      <td>abil</td>\n",
              "      <td>[0.10152296549989138, -0.1736971391806767, 0.0...</td>\n",
              "    </tr>\n",
              "    <tr>\n",
              "      <th>1</th>\n",
              "      <td>abl</td>\n",
              "      <td>[0.14817612330209817, -0.06376834341062015, 0....</td>\n",
              "    </tr>\n",
              "    <tr>\n",
              "      <th>2</th>\n",
              "      <td>absolut</td>\n",
              "      <td>[-0.0006693251156692111, -0.057222722360172375...</td>\n",
              "    </tr>\n",
              "    <tr>\n",
              "      <th>3</th>\n",
              "      <td>abstract</td>\n",
              "      <td>[-0.003450586237534945, 0.07755138074890788, -...</td>\n",
              "    </tr>\n",
              "    <tr>\n",
              "      <th>4</th>\n",
              "      <td>abus</td>\n",
              "      <td>[0.0713249201857218, -0.071614537614163, -0.01...</td>\n",
              "    </tr>\n",
              "    <tr>\n",
              "      <th>...</th>\n",
              "      <td>...</td>\n",
              "      <td>...</td>\n",
              "    </tr>\n",
              "    <tr>\n",
              "      <th>1995</th>\n",
              "      <td>young</td>\n",
              "      <td>[-0.08841036995055403, -0.02058322394799285, -...</td>\n",
              "    </tr>\n",
              "    <tr>\n",
              "      <th>1996</th>\n",
              "      <td>younger</td>\n",
              "      <td>[0.015937937819990033, -0.026617566926839694, ...</td>\n",
              "    </tr>\n",
              "    <tr>\n",
              "      <th>1997</th>\n",
              "      <td>zero</td>\n",
              "      <td>[-0.09114146487310743, 0.02759163763564072, 0....</td>\n",
              "    </tr>\n",
              "    <tr>\n",
              "      <th>1998</th>\n",
              "      <td>zone</td>\n",
              "      <td>[-0.02527025568042392, -0.09459131807155105, -...</td>\n",
              "    </tr>\n",
              "    <tr>\n",
              "      <th>1999</th>\n",
              "      <td>zoom</td>\n",
              "      <td>[0.03254051640095075, 0.0006817888572760169, 0...</td>\n",
              "    </tr>\n",
              "  </tbody>\n",
              "</table>\n",
              "<p>2000 rows × 2 columns</p>\n",
              "</div>\n",
              "      <button class=\"colab-df-convert\" onclick=\"convertToInteractive('df-33929a18-6734-4187-818b-fd3f4527c512')\"\n",
              "              title=\"Convert this dataframe to an interactive table.\"\n",
              "              style=\"display:none;\">\n",
              "        \n",
              "  <svg xmlns=\"http://www.w3.org/2000/svg\" height=\"24px\"viewBox=\"0 0 24 24\"\n",
              "       width=\"24px\">\n",
              "    <path d=\"M0 0h24v24H0V0z\" fill=\"none\"/>\n",
              "    <path d=\"M18.56 5.44l.94 2.06.94-2.06 2.06-.94-2.06-.94-.94-2.06-.94 2.06-2.06.94zm-11 1L8.5 8.5l.94-2.06 2.06-.94-2.06-.94L8.5 2.5l-.94 2.06-2.06.94zm10 10l.94 2.06.94-2.06 2.06-.94-2.06-.94-.94-2.06-.94 2.06-2.06.94z\"/><path d=\"M17.41 7.96l-1.37-1.37c-.4-.4-.92-.59-1.43-.59-.52 0-1.04.2-1.43.59L10.3 9.45l-7.72 7.72c-.78.78-.78 2.05 0 2.83L4 21.41c.39.39.9.59 1.41.59.51 0 1.02-.2 1.41-.59l7.78-7.78 2.81-2.81c.8-.78.8-2.07 0-2.86zM5.41 20L4 18.59l7.72-7.72 1.47 1.35L5.41 20z\"/>\n",
              "  </svg>\n",
              "      </button>\n",
              "      \n",
              "  <style>\n",
              "    .colab-df-container {\n",
              "      display:flex;\n",
              "      flex-wrap:wrap;\n",
              "      gap: 12px;\n",
              "    }\n",
              "\n",
              "    .colab-df-convert {\n",
              "      background-color: #E8F0FE;\n",
              "      border: none;\n",
              "      border-radius: 50%;\n",
              "      cursor: pointer;\n",
              "      display: none;\n",
              "      fill: #1967D2;\n",
              "      height: 32px;\n",
              "      padding: 0 0 0 0;\n",
              "      width: 32px;\n",
              "    }\n",
              "\n",
              "    .colab-df-convert:hover {\n",
              "      background-color: #E2EBFA;\n",
              "      box-shadow: 0px 1px 2px rgba(60, 64, 67, 0.3), 0px 1px 3px 1px rgba(60, 64, 67, 0.15);\n",
              "      fill: #174EA6;\n",
              "    }\n",
              "\n",
              "    [theme=dark] .colab-df-convert {\n",
              "      background-color: #3B4455;\n",
              "      fill: #D2E3FC;\n",
              "    }\n",
              "\n",
              "    [theme=dark] .colab-df-convert:hover {\n",
              "      background-color: #434B5C;\n",
              "      box-shadow: 0px 1px 3px 1px rgba(0, 0, 0, 0.15);\n",
              "      filter: drop-shadow(0px 1px 2px rgba(0, 0, 0, 0.3));\n",
              "      fill: #FFFFFF;\n",
              "    }\n",
              "  </style>\n",
              "\n",
              "      <script>\n",
              "        const buttonEl =\n",
              "          document.querySelector('#df-33929a18-6734-4187-818b-fd3f4527c512 button.colab-df-convert');\n",
              "        buttonEl.style.display =\n",
              "          google.colab.kernel.accessAllowed ? 'block' : 'none';\n",
              "\n",
              "        async function convertToInteractive(key) {\n",
              "          const element = document.querySelector('#df-33929a18-6734-4187-818b-fd3f4527c512');\n",
              "          const dataTable =\n",
              "            await google.colab.kernel.invokeFunction('convertToInteractive',\n",
              "                                                     [key], {});\n",
              "          if (!dataTable) return;\n",
              "\n",
              "          const docLinkHtml = 'Like what you see? Visit the ' +\n",
              "            '<a target=\"_blank\" href=https://colab.research.google.com/notebooks/data_table.ipynb>data table notebook</a>'\n",
              "            + ' to learn more about interactive tables.';\n",
              "          element.innerHTML = '';\n",
              "          dataTable['output_type'] = 'display_data';\n",
              "          await google.colab.output.renderOutput(dataTable, element);\n",
              "          const docLink = document.createElement('div');\n",
              "          docLink.innerHTML = docLinkHtml;\n",
              "          element.appendChild(docLink);\n",
              "        }\n",
              "      </script>\n",
              "    </div>\n",
              "  </div>\n",
              "  "
            ]
          },
          "metadata": {},
          "execution_count": 31
        }
      ],
      "source": [
        "# this gets the coefficients of the new logistic regression model\n",
        "coeff_df2_c = pd.DataFrame(zip(Xc.columns,np.transpose(log_model_c2.coef_)))\n",
        "coeff_df2_c"
      ]
    },
    {
      "cell_type": "code",
      "execution_count": null,
      "metadata": {
        "colab": {
          "base_uri": "https://localhost:8080/"
        },
        "id": "4pQ0itz1Qja9",
        "outputId": "2a0841f3-1e24-42c0-fa3f-afc14a4d50cc"
      },
      "outputs": [
        {
          "output_type": "stream",
          "name": "stdout",
          "text": [
            "[[33  2  8  0  1  0  6  0  1  0  5  0  0  0  0  0  0  0  0  0]\n",
            " [ 2 21  9  2  0  1 10  1  0  0  3  0  0  0  0  0  0  0  0  0]\n",
            " [ 0  2 22  1  0  0  6  0  1  0  0  0  0  0  0  0  1  0  0  0]\n",
            " [ 0  0  1  8  0  0  1  0  0  0  0  0  0  0  0  0  0  0  0  0]\n",
            " [ 0  0  1  0  9  1  0  0  0  0  0  0  0  0  0  0  0  0  0  0]\n",
            " [ 0  2  2  0  3  6  0  0  0  0  0  0  0  0  0  0  0  0  0  0]\n",
            " [ 0  0  0  0  0  0  3  0  0  0  0  0  0  0  0  0  0  0  0  0]\n",
            " [ 0  0  1  0  0  0  1  1  1  0  1  0  0  0  0  0  0  0  0  0]\n",
            " [ 0  0  1  0  0  0  1  0  0  0  0  0  1  0  0  0  0  0  0  0]\n",
            " [ 1  0  1  0  0  0  1  0  0  0  0  0  0  0  0  0  0  0  0  0]\n",
            " [ 0  0  0  0  0  0  0  0  0  0  2  0  0  0  0  0  0  0  0  0]\n",
            " [ 0  0  3  0  0  0  1  1  0  0  0  0  0  0  0  0  0  0  0  0]\n",
            " [ 0  0  0  1  0  0  1  0  0  0  0  0  0  0  0  0  0  0  0  0]\n",
            " [ 0  0  0  0  0  0  0  0  0  0  0  0  0  2  0  0  0  0  0  0]\n",
            " [ 0  0  0  0  1  0  1  0  0  0  0  0  0  0  0  0  0  0  0  0]\n",
            " [ 0  0  1  0  0  0  0  1  0  0  0  0  0  0  0  0  0  0  0  0]\n",
            " [ 0  0  0  0  0  0  0  0  0  0  0  0  0  0  0  0  0  0  0  0]\n",
            " [ 0  0  0  1  0  0  0  0  0  0  0  0  0  0  0  0  0  0  0  0]\n",
            " [ 0  0  0  0  0  0  0  0  0  0  0  0  0  0  0  0  0  0  1  0]\n",
            " [ 0  0  0  0  0  0  1  0  0  0  0  0  0  0  0  0  0  0  0  0]]\n",
            "              precision    recall  f1-score   support\n",
            "\n",
            "           0       0.92      0.59      0.72        56\n",
            "           1       0.78      0.43      0.55        49\n",
            "           2       0.44      0.67      0.53        33\n",
            "           3       0.62      0.80      0.70        10\n",
            "           4       0.64      0.82      0.72        11\n",
            "           5       0.75      0.46      0.57        13\n",
            "           6       0.09      1.00      0.17         3\n",
            "           7       0.25      0.20      0.22         5\n",
            "           8       0.00      0.00      0.00         3\n",
            "           9       0.00      0.00      0.00         3\n",
            "          10       0.18      1.00      0.31         2\n",
            "          11       0.00      0.00      0.00         5\n",
            "          12       0.00      0.00      0.00         2\n",
            "          13       1.00      1.00      1.00         2\n",
            "          14       0.00      0.00      0.00         2\n",
            "          15       0.00      0.00      0.00         2\n",
            "          16       0.00      0.00      0.00         0\n",
            "          17       0.00      0.00      0.00         1\n",
            "          18       1.00      1.00      1.00         1\n",
            "          20       0.00      0.00      0.00         1\n",
            "\n",
            "    accuracy                           0.53       204\n",
            "   macro avg       0.33      0.40      0.32       204\n",
            "weighted avg       0.65      0.53      0.55       204\n",
            "\n",
            "0.5294117647058824\n"
          ]
        },
        {
          "output_type": "stream",
          "name": "stderr",
          "text": [
            "/usr/local/lib/python3.7/dist-packages/sklearn/metrics/_classification.py:1318: UndefinedMetricWarning: Precision and F-score are ill-defined and being set to 0.0 in labels with no predicted samples. Use `zero_division` parameter to control this behavior.\n",
            "  _warn_prf(average, modifier, msg_start, len(result))\n",
            "/usr/local/lib/python3.7/dist-packages/sklearn/metrics/_classification.py:1318: UndefinedMetricWarning: Recall and F-score are ill-defined and being set to 0.0 in labels with no true samples. Use `zero_division` parameter to control this behavior.\n",
            "  _warn_prf(average, modifier, msg_start, len(result))\n",
            "/usr/local/lib/python3.7/dist-packages/sklearn/metrics/_classification.py:1318: UndefinedMetricWarning: Precision and F-score are ill-defined and being set to 0.0 in labels with no predicted samples. Use `zero_division` parameter to control this behavior.\n",
            "  _warn_prf(average, modifier, msg_start, len(result))\n",
            "/usr/local/lib/python3.7/dist-packages/sklearn/metrics/_classification.py:1318: UndefinedMetricWarning: Recall and F-score are ill-defined and being set to 0.0 in labels with no true samples. Use `zero_division` parameter to control this behavior.\n",
            "  _warn_prf(average, modifier, msg_start, len(result))\n",
            "/usr/local/lib/python3.7/dist-packages/sklearn/metrics/_classification.py:1318: UndefinedMetricWarning: Precision and F-score are ill-defined and being set to 0.0 in labels with no predicted samples. Use `zero_division` parameter to control this behavior.\n",
            "  _warn_prf(average, modifier, msg_start, len(result))\n",
            "/usr/local/lib/python3.7/dist-packages/sklearn/metrics/_classification.py:1318: UndefinedMetricWarning: Recall and F-score are ill-defined and being set to 0.0 in labels with no true samples. Use `zero_division` parameter to control this behavior.\n",
            "  _warn_prf(average, modifier, msg_start, len(result))\n"
          ]
        }
      ],
      "source": [
        "# This part evaluates the model with confusion matrix and accuracy score\n",
        "print(confusion_matrix(Y_test_c,class_predict_c))\n",
        "print(classification_report(Y_test_c,class_predict_c))\n",
        "print(accuracy_score(Y_test_c, class_predict_c))"
      ]
    },
    {
      "cell_type": "code",
      "source": [
        "# Code adapted from: https://towardsdatascience.com/text-classification-using-naive-bayes-theory-a-working-example-2ef4b7eb7d5a#:~:text=1.-,Introduction,is%20independent%20of%20each%20other.\n",
        "# This part plots the confusion matrix on a heat map\n",
        "import seaborn as sns\n",
        "import matplotlib.pyplot as plt\n",
        "mat = confusion_matrix(Y_test_c, class_predict_c)\n",
        "\n",
        "# Create heat map with seaborn\n",
        "plt.figure(figsize=(8, 8))\n",
        "sns.heatmap(mat.T, square = True, annot=True, fmt = \"d\")\n",
        "plt.xlabel(\"True labels\", fontdict={\"fontsize\": 16})\n",
        "plt.ylabel(\"Predicted label\", fontdict={\"fontsize\": 16})\n",
        "\n",
        "# Show the map\n",
        "plt.show()\n",
        "print(\"The accuracy is {}\".format(accuracy_score(Y_test_c, class_predict_c)))"
      ],
      "metadata": {
        "colab": {
          "base_uri": "https://localhost:8080/",
          "height": 490
        },
        "id": "zqRYUxgwobyH",
        "outputId": "b67cf0a7-50b3-4c19-fc72-84cc2561149a"
      },
      "execution_count": null,
      "outputs": [
        {
          "output_type": "display_data",
          "data": {
            "text/plain": [
              "<Figure size 576x576 with 2 Axes>"
            ],
            "image/png": "[encoded data removed]"
          },
          "metadata": {
            "needs_background": "light"
          }
        },
        {
          "output_type": "stream",
          "name": "stdout",
          "text": [
            "The accuracy is 0.5294117647058824\n"
          ]
        }
      ]
    },
    {
      "cell_type": "markdown",
      "metadata": {
        "id": "gt0ZX4q8o0Bs"
      },
      "source": [
        "#### Naive Bayes"
      ]
    },
    {
      "cell_type": "markdown",
      "metadata": {
        "id": "IUiDSQPwTvD0"
      },
      "source": [
        "###### Experiment 3: Naive Bayes with TFIDF"
      ]
    },
    {
      "cell_type": "code",
      "execution_count": null,
      "metadata": {
        "id": "CURBZrg3T0_S"
      },
      "outputs": [],
      "source": [
        "# From tutorials, this part is to split the dataset into training and testing\n",
        "X_train, X_test, y_train, y_test = train_test_split(df_s['stem'], df_s['category_number'], random_state=30)"
      ]
    },
    {
      "cell_type": "code",
      "execution_count": null,
      "metadata": {
        "id": "-L71cj9wXWun"
      },
      "outputs": [],
      "source": [
        "# This part is to transform the training and testing data, using TFIDF\n",
        "# Fit the training data and then return the matrix\n",
        "training_data = vectorizer_tfidf.fit_transform(X_train)\n",
        "\n",
        "# Transform testing data and return the matrix\n",
        "testing_data = vectorizer_tfidf.transform(X_test)"
      ]
    },
    {
      "cell_type": "code",
      "execution_count": null,
      "metadata": {
        "colab": {
          "base_uri": "https://localhost:8080/"
        },
        "id": "a10UG1GYX7cq",
        "outputId": "450daf76-ea95-44a7-f12a-8ad6b686cd76"
      },
      "outputs": [
        {
          "output_type": "execute_result",
          "data": {
            "text/plain": [
              "MultinomialNB()"
            ]
          },
          "metadata": {},
          "execution_count": 36
        }
      ],
      "source": [
        "# This part is to train the naive bayes model on the training data\n",
        "from sklearn.naive_bayes import MultinomialNB\n",
        "naive_bayes = MultinomialNB()\n",
        "naive_bayes.fit(training_data,y_train)"
      ]
    },
    {
      "cell_type": "code",
      "execution_count": null,
      "metadata": {
        "id": "qALiiGLZYDPZ"
      },
      "outputs": [],
      "source": [
        "# This part is to get the predictions on the testing data made by the naive bayes model\n",
        "predictions = naive_bayes.predict(testing_data)"
      ]
    },
    {
      "cell_type": "code",
      "execution_count": null,
      "metadata": {
        "id": "4YQPcJ85YGVj",
        "colab": {
          "base_uri": "https://localhost:8080/"
        },
        "outputId": "ef6af5ce-2f47-46e1-e2fe-d3242bf25340"
      },
      "outputs": [
        {
          "output_type": "stream",
          "name": "stdout",
          "text": [
            "Accuracy Score 0.531496062992126\n",
            "[[107  16   4   0   0   0   0   0   0   0   0   0   0   0   0   0   0   0\n",
            "    0   0   0]\n",
            " [  6  96   2   0   1   0   0   0   0   0   0   0   0   0   0   0   0   0\n",
            "    0   0   0]\n",
            " [ 19  16  36   0   0   0   0   0   0   0   0   0   0   0   0   0   0   0\n",
            "    0   0   0]\n",
            " [ 16   5   2  13   0   0   0   0   0   0   0   0   0   0   0   0   0   0\n",
            "    0   0   0]\n",
            " [  9  10   2   0  16   0   0   0   0   0   0   0   0   0   0   0   0   0\n",
            "    0   0   0]\n",
            " [  2  12   8   2   3   2   0   0   0   0   0   0   0   0   0   0   0   0\n",
            "    0   0   0]\n",
            " [  3  11   0   0   0   0   0   0   0   0   0   0   0   0   0   0   0   0\n",
            "    0   0   0]\n",
            " [ 12   7   0   0   0   0   0   0   0   0   0   0   0   0   0   0   0   0\n",
            "    0   0   0]\n",
            " [  5   6   6   0   0   2   0   0   0   0   0   0   0   0   0   0   0   0\n",
            "    0   0   0]\n",
            " [  2   3   1   0   0   0   0   0   0   0   0   0   0   0   0   0   0   0\n",
            "    0   0   0]\n",
            " [  2   5   0   0   0   0   0   0   0   0   0   0   0   0   0   0   0   0\n",
            "    0   0   0]\n",
            " [  2   2   3   0   0   0   0   0   0   0   0   0   0   0   0   0   0   0\n",
            "    0   0   0]\n",
            " [  0   0   3   0   1   0   0   0   0   0   0   0   0   0   0   0   0   0\n",
            "    0   0   0]\n",
            " [  2   3   0   0   1   0   0   0   0   0   0   0   0   0   0   0   0   0\n",
            "    0   0   0]\n",
            " [  0   1   0   0   3   0   0   0   0   0   0   0   0   0   0   0   0   0\n",
            "    0   0   0]\n",
            " [  2   2   0   0   0   0   0   0   0   0   0   0   0   0   0   0   0   0\n",
            "    0   0   0]\n",
            " [  0   1   3   0   0   0   0   0   0   0   0   0   0   0   0   0   0   0\n",
            "    0   0   0]\n",
            " [  2   0   0   0   0   0   0   0   0   0   0   0   0   0   0   0   0   0\n",
            "    0   0   0]\n",
            " [  1   0   0   0   0   0   0   0   0   0   0   0   0   0   0   0   0   0\n",
            "    0   0   0]\n",
            " [  2   1   0   0   0   0   0   0   0   0   0   0   0   0   0   0   0   0\n",
            "    0   0   0]\n",
            " [  0   2   1   0   0   0   0   0   0   0   0   0   0   0   0   0   0   0\n",
            "    0   0   0]]\n",
            "              precision    recall  f1-score   support\n",
            "\n",
            "           0       0.55      0.84      0.67       127\n",
            "           1       0.48      0.91      0.63       105\n",
            "           2       0.51      0.51      0.51        71\n",
            "           3       0.87      0.36      0.51        36\n",
            "           4       0.64      0.43      0.52        37\n",
            "           5       0.50      0.07      0.12        29\n",
            "           6       0.00      0.00      0.00        14\n",
            "           7       0.00      0.00      0.00        19\n",
            "           8       0.00      0.00      0.00        19\n",
            "           9       0.00      0.00      0.00         6\n",
            "          10       0.00      0.00      0.00         7\n",
            "          11       0.00      0.00      0.00         7\n",
            "          12       0.00      0.00      0.00         4\n",
            "          13       0.00      0.00      0.00         6\n",
            "          14       0.00      0.00      0.00         4\n",
            "          15       0.00      0.00      0.00         4\n",
            "          16       0.00      0.00      0.00         4\n",
            "          17       0.00      0.00      0.00         2\n",
            "          18       0.00      0.00      0.00         1\n",
            "          19       0.00      0.00      0.00         3\n",
            "          20       0.00      0.00      0.00         3\n",
            "\n",
            "    accuracy                           0.53       508\n",
            "   macro avg       0.17      0.15      0.14       508\n",
            "weighted avg       0.45      0.53      0.45       508\n",
            "\n"
          ]
        },
        {
          "output_type": "stream",
          "name": "stderr",
          "text": [
            "/usr/local/lib/python3.7/dist-packages/sklearn/metrics/_classification.py:1318: UndefinedMetricWarning: Precision and F-score are ill-defined and being set to 0.0 in labels with no predicted samples. Use `zero_division` parameter to control this behavior.\n",
            "  _warn_prf(average, modifier, msg_start, len(result))\n",
            "/usr/local/lib/python3.7/dist-packages/sklearn/metrics/_classification.py:1318: UndefinedMetricWarning: Precision and F-score are ill-defined and being set to 0.0 in labels with no predicted samples. Use `zero_division` parameter to control this behavior.\n",
            "  _warn_prf(average, modifier, msg_start, len(result))\n",
            "/usr/local/lib/python3.7/dist-packages/sklearn/metrics/_classification.py:1318: UndefinedMetricWarning: Precision and F-score are ill-defined and being set to 0.0 in labels with no predicted samples. Use `zero_division` parameter to control this behavior.\n",
            "  _warn_prf(average, modifier, msg_start, len(result))\n"
          ]
        }
      ],
      "source": [
        "# This part evaluates the model with confusion matrix and accuracy score\n",
        "print('Accuracy Score',accuracy_score(y_test,predictions))\n",
        "print(confusion_matrix(y_test,predictions))\n",
        "print(classification_report(y_test,predictions))"
      ]
    },
    {
      "cell_type": "code",
      "source": [
        "# Code adapted from: https://towardsdatascience.com/text-classification-using-naive-bayes-theory-a-working-example-2ef4b7eb7d5a#:~:text=1.-,Introduction,is%20independent%20of%20each%20other.\n",
        "# This part plots the confusion matrix on a heat map\n",
        "import seaborn as sns\n",
        "import matplotlib.pyplot as plt\n",
        "mat = confusion_matrix(y_test, predictions)\n",
        "\n",
        "# Create heat map with seaborn\n",
        "plt.figure(figsize=(8, 8))\n",
        "sns.heatmap(mat.T, square = True, annot=True, fmt = \"d\")\n",
        "#, xticklabels=x_axis_labels, yticklabels=y_axis_labels\n",
        "plt.xlabel(\"True labels\", fontdict={\"fontsize\": 16})\n",
        "plt.ylabel(\"Predicted label\", fontdict={\"fontsize\": 16})\n",
        "\n",
        "# Show the map\n",
        "plt.show()\n",
        "print(\"The accuracy is {}\".format(accuracy_score(y_test, predictions)))"
      ],
      "metadata": {
        "colab": {
          "base_uri": "https://localhost:8080/",
          "height": 490
        },
        "id": "cVoTQiRw7c5i",
        "outputId": "35eb51a5-7718-49e4-f280-d929aece8511"
      },
      "execution_count": null,
      "outputs": [
        {
          "output_type": "display_data",
          "data": {
            "text/plain": [
              "<Figure size 576x576 with 2 Axes>"
            ],
            "image/png": "[encoded data removed]"
          },
          "metadata": {
            "needs_background": "light"
          }
        },
        {
          "output_type": "stream",
          "name": "stdout",
          "text": [
            "The accuracy is 0.531496062992126\n"
          ]
        }
      ]
    },
    {
      "cell_type": "markdown",
      "metadata": {
        "id": "yCkcFU1ULWlC"
      },
      "source": [
        "###### Experiment 4: Naive Bayes with Count Vectorizer"
      ]
    },
    {
      "cell_type": "code",
      "execution_count": null,
      "metadata": {
        "id": "hat01bAcoYcg"
      },
      "outputs": [],
      "source": [
        "# From tutorials, this part is to split the dataset into training and testing\n",
        "X_train, X_test, y_train, y_test = train_test_split(df_s['stem'], df_s['category_number'], random_state=30)"
      ]
    },
    {
      "cell_type": "code",
      "execution_count": null,
      "metadata": {
        "id": "5M2tOLiLKHFv"
      },
      "outputs": [],
      "source": [
        "# This part is to transform the training and testing data, using count vectorizer\n",
        "# Fit the training data and then return the matrix\n",
        "training_data = vectorizer_count.fit_transform(X_train)\n",
        "\n",
        "# Transform testing data and return the matrix. Note we are not fitting the testing data into the CountVectorizer()\n",
        "testing_data = vectorizer_count.transform(X_test)"
      ]
    },
    {
      "cell_type": "code",
      "execution_count": null,
      "metadata": {
        "colab": {
          "base_uri": "https://localhost:8080/"
        },
        "id": "tz3-pVq9KO5y",
        "outputId": "16785491-737e-4842-b7ea-eeccba1a5d18"
      },
      "outputs": [
        {
          "output_type": "execute_result",
          "data": {
            "text/plain": [
              "MultinomialNB()"
            ]
          },
          "metadata": {},
          "execution_count": 42
        }
      ],
      "source": [
        "# This part is to train the naive bayes model on the training data\n",
        "from sklearn.naive_bayes import MultinomialNB\n",
        "naive_bayes = MultinomialNB()\n",
        "naive_bayes.fit(training_data,y_train)"
      ]
    },
    {
      "cell_type": "code",
      "execution_count": null,
      "metadata": {
        "id": "tV4F2gI6KPuf"
      },
      "outputs": [],
      "source": [
        "# This part is to get the predictions on the testing data made by the naive bayes model\n",
        "predictions = naive_bayes.predict(testing_data)"
      ]
    },
    {
      "cell_type": "code",
      "execution_count": null,
      "metadata": {
        "colab": {
          "base_uri": "https://localhost:8080/"
        },
        "id": "GdCXo_xMJdS5",
        "outputId": "add6cd6c-8715-4df3-f314-9b61d60e3456"
      },
      "outputs": [
        {
          "output_type": "stream",
          "name": "stdout",
          "text": [
            "Accuracy Score 0.594488188976378\n",
            "[[80 16  6  7  2  3  6  3  0  0  1  0  0  2  0  0  0  0  1  0  0]\n",
            " [ 2 81  4  3  3  2  4  4  0  1  0  0  0  1  0  0  0  0  0  0  0]\n",
            " [ 7  4 41  3  5  1  5  0  0  3  0  0  0  0  0  0  2  0  0  0  0]\n",
            " [ 1  1  1 27  0  2  1  0  0  0  0  0  0  0  0  0  1  0  2  0  0]\n",
            " [ 0  1  0  0 23  3  2  1  1  0  1  2  0  0  2  1  0  0  0  0  0]\n",
            " [ 0  3  0  2  7 13  0  0  0  1  1  1  1  0  0  0  0  0  0  0  0]\n",
            " [ 1  2  1  0  0  0  6  3  1  0  0  0  0  0  0  0  0  0  0  0  0]\n",
            " [ 1  2  1  0  2  0  0  8  0  1  2  0  0  1  0  0  0  1  0  0  0]\n",
            " [ 0  1  2  0  0  3  4  1  5  1  0  0  1  1  0  0  0  0  0  0  0]\n",
            " [ 1  1  0  0  0  0  1  0  0  3  0  0  0  0  0  0  0  0  0  0  0]\n",
            " [ 0  1  0  0  0  0  0  1  1  0  4  0  0  0  0  0  0  0  0  0  0]\n",
            " [ 0  0  2  1  0  0  1  1  0  0  1  1  0  0  0  0  0  0  0  0  0]\n",
            " [ 0  0  0  0  1  0  0  0  0  0  0  0  3  0  0  0  0  0  0  0  0]\n",
            " [ 1  0  0  0  1  0  0  0  0  0  0  0  0  4  0  0  0  0  0  0  0]\n",
            " [ 0  0  0  0  2  0  0  0  0  0  1  0  1  0  0  0  0  0  0  0  0]\n",
            " [ 0  1  0  0  1  1  1  0  0  0  0  0  0  0  0  0  0  0  0  0  0]\n",
            " [ 0  1  2  0  0  0  0  0  0  0  0  0  0  0  0  0  1  0  0  0  0]\n",
            " [ 0  0  0  1  0  0  0  0  0  0  0  0  0  0  0  0  0  1  0  0  0]\n",
            " [ 0  0  0  1  0  0  0  0  0  0  0  0  0  0  0  0  0  0  0  0  0]\n",
            " [ 0  2  0  0  0  0  1  0  0  0  0  0  0  0  0  0  0  0  0  0  0]\n",
            " [ 0  0  2  0  0  0  0  0  0  0  0  0  0  0  0  0  0  0  0  0  1]]\n",
            "              precision    recall  f1-score   support\n",
            "\n",
            "           0       0.85      0.63      0.72       127\n",
            "           1       0.69      0.77      0.73       105\n",
            "           2       0.66      0.58      0.62        71\n",
            "           3       0.60      0.75      0.67        36\n",
            "           4       0.49      0.62      0.55        37\n",
            "           5       0.46      0.45      0.46        29\n",
            "           6       0.19      0.43      0.26        14\n",
            "           7       0.36      0.42      0.39        19\n",
            "           8       0.62      0.26      0.37        19\n",
            "           9       0.30      0.50      0.37         6\n",
            "          10       0.36      0.57      0.44         7\n",
            "          11       0.25      0.14      0.18         7\n",
            "          12       0.50      0.75      0.60         4\n",
            "          13       0.44      0.67      0.53         6\n",
            "          14       0.00      0.00      0.00         4\n",
            "          15       0.00      0.00      0.00         4\n",
            "          16       0.25      0.25      0.25         4\n",
            "          17       0.50      0.50      0.50         2\n",
            "          18       0.00      0.00      0.00         1\n",
            "          19       0.00      0.00      0.00         3\n",
            "          20       1.00      0.33      0.50         3\n",
            "\n",
            "    accuracy                           0.59       508\n",
            "   macro avg       0.41      0.41      0.39       508\n",
            "weighted avg       0.63      0.59      0.60       508\n",
            "\n"
          ]
        },
        {
          "output_type": "stream",
          "name": "stderr",
          "text": [
            "/usr/local/lib/python3.7/dist-packages/sklearn/metrics/_classification.py:1318: UndefinedMetricWarning: Precision and F-score are ill-defined and being set to 0.0 in labels with no predicted samples. Use `zero_division` parameter to control this behavior.\n",
            "  _warn_prf(average, modifier, msg_start, len(result))\n",
            "/usr/local/lib/python3.7/dist-packages/sklearn/metrics/_classification.py:1318: UndefinedMetricWarning: Precision and F-score are ill-defined and being set to 0.0 in labels with no predicted samples. Use `zero_division` parameter to control this behavior.\n",
            "  _warn_prf(average, modifier, msg_start, len(result))\n",
            "/usr/local/lib/python3.7/dist-packages/sklearn/metrics/_classification.py:1318: UndefinedMetricWarning: Precision and F-score are ill-defined and being set to 0.0 in labels with no predicted samples. Use `zero_division` parameter to control this behavior.\n",
            "  _warn_prf(average, modifier, msg_start, len(result))\n"
          ]
        }
      ],
      "source": [
        "# This part evaluates the model with confusion matrix and accuracy score\n",
        "from sklearn.metrics import accuracy_score,precision_score,recall_score,f1_score\n",
        "print('Accuracy Score',accuracy_score(y_test,predictions))\n",
        "print(confusion_matrix(y_test,predictions))\n",
        "print(classification_report(y_test,predictions))"
      ]
    },
    {
      "cell_type": "code",
      "source": [
        "# Code adapted from: https://towardsdatascience.com/text-classification-using-naive-bayes-theory-a-working-example-2ef4b7eb7d5a#:~:text=1.-,Introduction,is%20independent%20of%20each%20other.\n",
        "# This part plots the confusion matrix on a heat map\n",
        "import seaborn as sns\n",
        "import matplotlib.pyplot as plt\n",
        "mat = confusion_matrix(y_test, predictions)\n",
        "\n",
        "# Create heat map with seaborn\n",
        "plt.figure(figsize=(8, 8))\n",
        "sns.heatmap(mat.T, square = True, annot=True, fmt = \"d\")\n",
        "plt.xlabel(\"True labels\", fontdict={\"fontsize\": 16})\n",
        "plt.ylabel(\"Predicted label\", fontdict={\"fontsize\": 16})\n",
        "\n",
        "# Show the map\n",
        "plt.show()\n",
        "print(\"The accuracy is {}\".format(accuracy_score(y_test, predictions)))"
      ],
      "metadata": {
        "colab": {
          "base_uri": "https://localhost:8080/",
          "height": 490
        },
        "id": "jLtUT12Onjli",
        "outputId": "ce8860a5-faa0-4f73-a5c7-ed4f0da2e917"
      },
      "execution_count": null,
      "outputs": [
        {
          "output_type": "display_data",
          "data": {
            "text/plain": [
              "<Figure size 576x576 with 2 Axes>"
            ],
            "image/png": "[encoded data removed]"
          },
          "metadata": {
            "needs_background": "light"
          }
        },
        {
          "output_type": "stream",
          "name": "stdout",
          "text": [
            "The accuracy is 0.594488188976378\n"
          ]
        }
      ]
    },
    {
      "cell_type": "markdown",
      "metadata": {
        "id": "uAiAKnj3o5KD"
      },
      "source": [
        "# Unsupervised Learning"
      ]
    },
    {
      "cell_type": "markdown",
      "source": [
        "###### Import Data"
      ],
      "metadata": {
        "id": "IwU9--tmXYYf"
      }
    },
    {
      "cell_type": "code",
      "execution_count": null,
      "metadata": {
        "colab": {
          "base_uri": "https://localhost:8080/"
        },
        "id": "X0hVfyZImsQB",
        "outputId": "34648e17-4f8a-4c59-c770-de8df5b020d6"
      },
      "outputs": [
        {
          "output_type": "execute_result",
          "data": {
            "text/plain": [
              "0       Earth/Environment/Ecosystem\n",
              "1                        Technology\n",
              "2                          Politics\n",
              "3                        Technology\n",
              "4                        Technology\n",
              "                   ...             \n",
              "2027                 Health/Science\n",
              "2028                     Technology\n",
              "2029    Emotions/Behaviour/Humanity\n",
              "2030    Emotions/Behaviour/Humanity\n",
              "2031                     Technology\n",
              "Name: category, Length: 2032, dtype: object"
            ]
          },
          "metadata": {},
          "execution_count": 46
        }
      ],
      "source": [
        "# Reference: https://medium.com/mlearning-ai/text-clustering-with-tf-idf-in-python-c94cd26a31e7\n",
        "# import other required libs\n",
        "import pandas as pd\n",
        "import numpy as np\n",
        "\n",
        "# string manipulation libs\n",
        "import re\n",
        "import nltk\n",
        "\n",
        "# viz libs\n",
        "import matplotlib.pyplot as plt\n",
        "import seaborn as sns\n",
        "\n",
        "# Remove transcripts with N/A\n",
        "data_un = data.dropna(subset = [\"transcript\"])\n",
        "data_un.reset_index(inplace = True, drop = True)\n",
        "data_un[\"category\"]"
      ]
    },
    {
      "cell_type": "markdown",
      "source": [
        "#### Data Cleaning\n"
      ],
      "metadata": {
        "id": "VEcgSwDtXeOd"
      }
    },
    {
      "cell_type": "code",
      "execution_count": null,
      "metadata": {
        "id": "KSOC4SDFXQ6n"
      },
      "outputs": [],
      "source": [
        "from nltk.stem.porter import PorterStemmer\n",
        "from nltk.corpus import stopwords\n",
        "import re\n",
        "\n",
        "# Create an empty array\n",
        "corpus = []\n",
        "\n",
        "# Remove non-text characters and stop words, then add them into the array\n",
        "for i in range(len(data_un)):\n",
        "    curr = data_un['transcript'][i]\n",
        "    review = re.sub('[^a-zA-Z]', ' ', curr)\n",
        "    review = review.lower()\n",
        "    review = review.split()\n",
        "    ps = PorterStemmer()\n",
        "    stop_words = stopwords.words('english')\n",
        "    review = [ps.stem(word) for word in review if not word in set(stop_words) and word != 'people' and \n",
        "              word != 'like' and word != 'look' and word != 'think' and word != 'its' and word != 'really' and word != \"one\" and word != \"two\" and word != \"go\"]\n",
        "    review = ' '.join(review)\n",
        "    corpus.append(review)"
      ]
    },
    {
      "cell_type": "markdown",
      "source": [
        "#### Count Vectorizer & TFIDF"
      ],
      "metadata": {
        "id": "0Am0_JXcXk4W"
      }
    },
    {
      "cell_type": "code",
      "execution_count": null,
      "metadata": {
        "id": "pk1QDTaFgNCN"
      },
      "outputs": [],
      "source": [
        "# TFIDF\n",
        "\n",
        "from sklearn.feature_extraction.text import TfidfVectorizer\n",
        "from sklearn.feature_extraction.text import CountVectorizer\n",
        "\n",
        "# Create Count Vectorizer\n",
        "cv = CountVectorizer(max_features = 1000)\n",
        "X = cv.fit_transform(corpus).toarray()\n",
        "\n",
        "# Create TFIDF Vectorizer\n",
        "tv = TfidfVectorizer(max_features = 1000)\n",
        "X_tv = tv.fit_transform(corpus).toarray()"
      ]
    },
    {
      "cell_type": "markdown",
      "source": [
        "#### KMeans & Elbow Method"
      ],
      "metadata": {
        "id": "mQB05xeRX6Z_"
      }
    },
    {
      "cell_type": "markdown",
      "source": [
        "###### Graph\n"
      ],
      "metadata": {
        "id": "7fBN3YoZYDIT"
      }
    },
    {
      "cell_type": "code",
      "execution_count": null,
      "metadata": {
        "colab": {
          "base_uri": "https://localhost:8080/",
          "height": 295
        },
        "id": "ReAZl7Akqys_",
        "outputId": "079ca8db-4201-44a7-9c45-23e1cb334c85"
      },
      "outputs": [
        {
          "output_type": "display_data",
          "data": {
            "text/plain": [
              "<Figure size 432x288 with 1 Axes>"
            ],
            "image/png": "[encoded data removed]"
          },
          "metadata": {
            "needs_background": "light"
          }
        }
      ],
      "source": [
        "#This section is to find the optimal number of clusters given TFIDF\n",
        "from sklearn.cluster import KMeans\n",
        "\n",
        "# Create an empty array for the sum of the squared distance between each member of the cluster and its centroid.\n",
        "wcss = []\n",
        "\n",
        "# User Elbow method to find the optimal number of clusters\n",
        "for i in range(1, 10):\n",
        "    kmeans = KMeans(n_clusters = i, init = 'k-means++', random_state = 42)\n",
        "    kmeans.fit(X_tv)\n",
        "    wcss.append(kmeans.inertia_)\n",
        "plt.plot(range(1, 10), wcss)\n",
        "plt.title('The Elbow Method with TFIDF')\n",
        "plt.xlabel('Number of clusters')\n",
        "plt.ylabel('WCSS')\n",
        "plt.show()"
      ]
    },
    {
      "cell_type": "code",
      "execution_count": null,
      "metadata": {
        "colab": {
          "base_uri": "https://localhost:8080/",
          "height": 295
        },
        "id": "rKWdbk4jC9AA",
        "outputId": "8389311d-44aa-480d-8037-59b68566e80e"
      },
      "outputs": [
        {
          "output_type": "display_data",
          "data": {
            "text/plain": [
              "<Figure size 432x288 with 1 Axes>"
            ],
            "image/png": "[encoded data removed]"
          },
          "metadata": {
            "needs_background": "light"
          }
        }
      ],
      "source": [
        "#This section is to find the optimal number of clusters given Count Vectorizer\n",
        "from sklearn.cluster import KMeans\n",
        "\n",
        "# Create an empty array for the sum of the squared distance between each member of the cluster and its centroid.\n",
        "wcss = []\n",
        "\n",
        "# User Elbow method to find the optimal number of clusters\n",
        "for i in range(1, 10):\n",
        "    kmeans = KMeans(n_clusters = i, init = 'k-means++', random_state = 42)\n",
        "    kmeans.fit(X)\n",
        "    wcss.append(kmeans.inertia_)\n",
        "plt.plot(range(1, 10), wcss)\n",
        "plt.title('The Elbow Method with Count Vectorizer')\n",
        "plt.xlabel('Number of clusters')\n",
        "plt.ylabel('WCSS')\n",
        "plt.show()"
      ]
    },
    {
      "cell_type": "markdown",
      "source": [
        "###### Set number of clusters for KMeans"
      ],
      "metadata": {
        "id": "YkU3p2OuYJtL"
      }
    },
    {
      "cell_type": "code",
      "execution_count": null,
      "metadata": {
        "id": "jFYfbl5yZjhs"
      },
      "outputs": [],
      "source": [
        "# Initialize kmeans with 3 centroids\n",
        "# random_state helps to reproduce consistent results\n",
        "kmeans = KMeans(n_clusters=3, random_state=30)\n",
        "\n",
        "# Fit into the model\n",
        "kmeans.fit(X)\n",
        "clusters = kmeans.labels_"
      ]
    },
    {
      "cell_type": "markdown",
      "source": [
        "####  PCA\n"
      ],
      "metadata": {
        "id": "HpL39-EwY9Aq"
      }
    },
    {
      "cell_type": "code",
      "execution_count": null,
      "metadata": {
        "id": "89bybfbLr8EQ"
      },
      "outputs": [],
      "source": [
        "# Reduce dataset dimensions, increase interpretability, and minimize information loss to best summarize the total variability of data\n",
        "from sklearn.decomposition import PCA\n",
        "\n",
        "# Initialize PCA with 2 components\n",
        "pca = PCA(n_components=2, random_state=42)\n",
        "# Pass X from count vectorizer into the PCA \n",
        "pca_vecs = pca.fit_transform(X)\n",
        "# Store the 2 dimensions into x0 and x1\n",
        "x0 = pca_vecs[:, 0]\n",
        "x1 = pca_vecs[:, 1]"
      ]
    },
    {
      "cell_type": "code",
      "execution_count": null,
      "metadata": {
        "id": "kreTkh0OsSL9"
      },
      "outputs": [],
      "source": [
        "# Visualization\n",
        "\n",
        "# Create dataframe \n",
        "dataset_df = pd.DataFrame()\n",
        "\n",
        "# Store clusters, category, and PCA vectors to the dataframe\n",
        "dataset_df[\"x0\"] = x0 \n",
        "dataset_df[\"x1\"] = x1\n",
        "dataset_df[\"cluster\"] = clusters\n",
        "dataset_df[\"category\"] = data_un.category"
      ]
    },
    {
      "cell_type": "code",
      "execution_count": null,
      "metadata": {
        "colab": {
          "base_uri": "https://localhost:8080/"
        },
        "id": "HrPqXjNadWeY",
        "outputId": "856574f6-874c-4b38-bc1a-16516e06b3df"
      },
      "outputs": [
        {
          "output_type": "stream",
          "name": "stdout",
          "text": [
            "\n",
            "Cluster 0\n",
            "much,someth,also,call,start,first,right,need,take,well,come,say,laughter,could,actual,use,work,want,way,make,world,us,would,go,know,time,thing,year,get,see\n",
            "\n",
            "Cluster 1\n",
            "talk,littl,come,got,lot,could,start,us,kind,world,someth,well,use,right,said,actual,way,year,work,see,would,make,time,say,want,laughter,get,go,know,thing\n",
            "\n",
            "Cluster 2\n",
            "call,live,start,new,come,right,even,actual,also,need,first,take,could,applaus,way,go,world,want,work,laughter,would,know,get,thing,us,make,use,see,time,year\n"
          ]
        }
      ],
      "source": [
        "# This part is to show the top key words for each centroid from KMeans\n",
        "def get_top_keywords(n_terms):\n",
        "    # Group by clusters\n",
        "    df = pd.DataFrame(X).groupby(clusters).mean() \n",
        "    # Get the terms\n",
        "    terms = cv.get_feature_names_out() \n",
        "    for i,r in df.iterrows():\n",
        "        print('\\nCluster {}'.format(i))\n",
        "        print(','.join([terms[t] for t in np.argsort(r)[-n_terms:]])) # for each row of the dataframe, find the n terms that have the highest tf idf score\n",
        "            \n",
        "get_top_keywords(30)"
      ]
    },
    {
      "cell_type": "markdown",
      "source": [
        "#### Clustering Results"
      ],
      "metadata": {
        "id": "0vRbkA8JZeA4"
      }
    },
    {
      "cell_type": "markdown",
      "source": [
        "###### Clusters from KMeans"
      ],
      "metadata": {
        "id": "92TvDPmSZpqZ"
      }
    },
    {
      "cell_type": "code",
      "execution_count": null,
      "metadata": {
        "colab": {
          "base_uri": "https://localhost:8080/",
          "height": 467
        },
        "id": "e_9ON7xKWwko",
        "outputId": "e3022817-e395-4d6f-8360-af8f895925b1"
      },
      "outputs": [
        {
          "output_type": "display_data",
          "data": {
            "text/plain": [
              "<Figure size 864x504 with 1 Axes>"
            ],
            "image/png": "[encoded data removed]"
          },
          "metadata": {
            "needs_background": "light"
          }
        }
      ],
      "source": [
        "# This shows the clusters baesd on KMeans\n",
        "import seaborn as sns\n",
        "\n",
        "# Figure size\n",
        "plt.figure(figsize=(12, 7))\n",
        "# Title\n",
        "plt.title(\"Count Vectorizer + KMeans Clustering\", fontdict={\"fontsize\": 18})\n",
        "# x and y axes \n",
        "plt.xlabel(\"X0\", fontdict={\"fontsize\": 16})\n",
        "plt.ylabel(\"X1\", fontdict={\"fontsize\": 16})\n",
        "# Create scatter plot with seaborn\n",
        "# Set hue to the cluster to group data\n",
        "sns.scatterplot(data=dataset_df, x='x0', y='x1', hue='cluster', palette=\"viridis\")\n",
        "plt.show()"
      ]
    },
    {
      "cell_type": "markdown",
      "source": [
        "###### By Categories"
      ],
      "metadata": {
        "id": "R5kiT8fdZynn"
      }
    },
    {
      "cell_type": "code",
      "execution_count": null,
      "metadata": {
        "colab": {
          "base_uri": "https://localhost:8080/",
          "height": 467
        },
        "id": "yQKG_dTUW4NY",
        "outputId": "773e2560-78c6-4396-c6fc-ec4a2930653f"
      },
      "outputs": [
        {
          "output_type": "display_data",
          "data": {
            "text/plain": [
              "<Figure size 864x504 with 1 Axes>"
            ],
            "image/png": "[encoded data removed]"
          },
          "metadata": {
            "needs_background": "light"
          }
        }
      ],
      "source": [
        "# This shows the clusters of words used in the transcripts in each category\n",
        "import seaborn as sns\n",
        "\n",
        "# Figure size\n",
        "plt.figure(figsize=(12, 7))\n",
        "# Title\n",
        "# Each point is a transcript and identify the category by color\n",
        "plt.title(\"Clustering of Transcript Categories\", fontdict={\"fontsize\": 18})\n",
        "# x and y axes\n",
        "plt.xlabel(\"X0\", fontdict={\"fontsize\": 16})\n",
        "plt.ylabel(\"X1\", fontdict={\"fontsize\": 16})\n",
        "# Create scatter plot with seaborn, where hue is the class used to group the data\n",
        "sns.scatterplot(data=dataset_df, x='x0', y='x1', hue='category', palette=\"viridis\")\n",
        "plt.show()"
      ]
    }
  ],
  "metadata": {
    "colab": {
      "provenance": [],
      "toc_visible": true,
      "include_colab_link": true
    },
    "kernelspec": {
      "display_name": "Python 3",
      "name": "python3"
    },
    "language_info": {
      "name": "python"
    }
  },
  "nbformat": 4,
  "nbformat_minor": 0
}